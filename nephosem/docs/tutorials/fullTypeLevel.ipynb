{
 "cells": [
  {
   "cell_type": "markdown",
   "metadata": {},
   "source": [
    "# The full python workflow for semasiological token-level clouds "
   ]
  },
  {
   "cell_type": "markdown",
   "metadata": {},
   "source": [
    "In this notebook we will used the `nephosem` module in the `qlvl/nephosem` repository."
   ]
  },
  {
   "cell_type": "markdown",
   "metadata": {},
   "source": [
    "## 0. Initial setup "
   ]
  },
  {
   "cell_type": "markdown",
   "metadata": {},
   "source": [
    "This initial setup should probably be run in some sort of setup file or at the beginning of any script, in any case.\n",
    "I'll try to run it with the newer deprel model."
   ]
  },
  {
   "cell_type": "code",
   "execution_count": 1,
   "metadata": {},
   "outputs": [],
   "source": [
    "import pandas as pd # to see concordance\n",
    "import numpy as np # for \"booleanize()\"\n",
    "from scipy import sparse # for \"booleanize()\"\n",
    "import sys"
   ]
  },
  {
   "cell_type": "markdown",
   "metadata": {},
   "source": [
    "Then, the `nephosem` module itself has to be included.\n",
    "Until we can deploy it and install it with `pip`, we need to attach the path to the repository where it is hosted.\n",
    "\n"
   ]
  },
  {
   "cell_type": "code",
   "execution_count": 2,
   "metadata": {},
   "outputs": [],
   "source": [
    "nephosemdir = \"/home/projects/semmetrix/mariana_wolken/nephosem\"\n",
    "sys.path.append(nephosemdir)"
   ]
  },
  {
   "cell_type": "markdown",
   "metadata": {},
   "source": [
    "From there, we can import the different functions that we need from the `nephosem` module. They could be imported as necessary for the different tasks, especially in a tutorial like this one."
   ]
  },
  {
   "cell_type": "code",
   "execution_count": 3,
   "metadata": {},
   "outputs": [],
   "source": [
    "from nephosem.conf import ConfigLoader # to setup the configuration\n",
    "from nephosem import Vocab, TypeTokenMatrix # to manage frequency lists and matrices\n",
    "from nephosem import ItemFreqHandler, ColFreqHandler, TokenHandler # to generate frequency lists and matrices\n",
    "from nephosem import compute_association, compute_distance # to compute PPMI and distances\n",
    "# compute_cosine would return similarities (I think), compute_simrank, similarity ranks\n",
    "from nephosem.specutils.mxcalc import compute_token_weights, compute_token_vectors # for token level. I have incorporated Stefano's modifications in my copy, with adjustments\n",
    "# from qlvl.basics.mxcalc import compute_token_weights, compute_token_vectors # non depmodel version\n",
    "from nephosem.models.typetoken import build_tc_weight_matrix # for weighting at token level\n",
    "\n",
    "# For dependencies\n",
    "from nephosem.core.graph import SentenceGraph, MacroGraph, PatternGraph\n",
    "from nephosem.models.deprel import DepRelHandler, read_sentence"
   ]
  },
  {
   "cell_type": "markdown",
   "metadata": {},
   "source": [
    "## 1. Configuration "
   ]
  },
  {
   "cell_type": "markdown",
   "metadata": {},
   "source": [
    "Depending on what you need, you will have to set up some useful paths settings.\n",
    "I like to have at least the path to my project (`mydir`), an output path within (`mydir + \"output\"`) and a GitHub path for the datasets that I will use in the visualization. There is no real reason not to have everything together, except that I did not think of it at the moment.\n",
    "\n",
    "For this notebook, we will use a dataset in the same directory of the package: `tests/data/StanfDepSents`, because it includes dependency information.\n",
    "\n",
    "You could also set up a file with filenames, but we won't use that here."
   ]
  },
  {
   "cell_type": "code",
   "execution_count": 4,
   "metadata": {},
   "outputs": [],
   "source": [
    "# mydir = \"/home/projects/semmetrix/mariana_wolken/Wolken/\"\n",
    "mydir = f\"{nephosemdir}/qlvl/tests/data\"\n",
    "output_path = f\"{mydir}/output/\"\n",
    "# fnames_file = \"{}/sources/LeNC260TwNC260.fnames\".format(mydir)\n",
    "# coldir = \"/home/projects/semmetrix/NephoSem/input-data/frequency-matrices/QLVLNewsCorpus/\""
   ]
  },
  {
   "cell_type": "markdown",
   "metadata": {},
   "source": [
    "The variables with paths is just meant to make it easier to manipulate filenames. The most important concrete step is to adapt the configuration file."
   ]
  },
  {
   "cell_type": "code",
   "execution_count": 5,
   "metadata": {},
   "outputs": [],
   "source": [
    "conf = ConfigLoader()\n",
    "default_settings = conf.settings\n",
    "settings = default_settings"
   ]
  },
  {
   "cell_type": "markdown",
   "metadata": {},
   "source": [
    "The `line-machine` and `line-format` settings relate to the shape of the corpus file, or concretely to the lines of the tokens, and their content.\n",
    "\n",
    "The first is a regular expression with capturing groups:\n",
    "the versions for *QLVLNewsCorpus* and *Brown* are commented; the one for Stanford Dependency Sentences captures six items separated by tabs.\n",
    "\n",
    "The `global-columns` (previously `line-format`) refers to the capturing groups in the line machine and labels them. In the case of the Stanford toy corpus, that is the word form, part-of-speech, lemma, id (index of item in the sentence), head (id of its dependency head) and dependency relation.\n",
    "\n",
    "The `type`, `colloc` and `token` settings indicate the format of the type, collocate and token ID's. Here the target and collocate types are set to the default (combination of 'lemma' and 'pos'), and the token ID uses the values of the 'lemma' and 'pos' fields along with the file name/ID ('fid') and the line number starting from 1 ('lid'), all separated by slashes. The 'fid' is computed as the basename of the filename, without extension.\n",
    "\n",
    "Afterwards we have settings for dependency-based models: the format of the node and edges in the graph, and the labels of the index and head information.\n",
    "\n",
    "The `separator-line-machine` is optional for bag-of-words models (it indicates that we want to stop the window when we encounter it) but necessary for dependency-models:  it tells the software where sentences end."
   ]
  },
  {
   "cell_type": "code",
   "execution_count": 6,
   "metadata": {},
   "outputs": [
    {
     "name": "stdout",
     "output_type": "stream",
     "text": [
      "([^\t]+)\t([^\t])[^\t]*\t([^\t]+)\t([^\t]+)\t([^\t]+)\t([^\t]+)\n",
      "word,pos,lemma,id,head,deprel\n",
      "lemma/pos lemma/pos lemma/pos/fid/lid\n"
     ]
    }
   ],
   "source": [
    "# settings['line-machine'] = '[^\\t]+\\t([^\\t]+)\\t([^\\t]+)\\t([^\\t]+)\\t[^\\t]+\\t[^\\t]+\\t_\\t_' #QLVLNewsCorpus, no dep\n",
    "# settings['line-machine'] = '([^\\t]+)\\t([^\\t])[^\\t]*\\t([^\\t]+)' #Brown corpus\n",
    "settings['line-machine'] = '([^\\t]+)\\t([^\\t])[^\\t]*\\t([^\\t]+)\\t([^\\t]+)\\t([^\\t]+)\\t([^\\t]+)' #Stanford corpus\n",
    "# settings['line-format'] = 'word,lemma,pos'\n",
    "#settings['line-format'] = 'word,pos,lemma'\n",
    "settings['global-columns'] = \"word,pos,lemma,id,head,deprel\" \n",
    "\n",
    "settings['type'] = 'lemma/pos'\n",
    "settings['colloc'] = 'lemma/pos'\n",
    "settings['token'] = 'lemma/pos/fid/lid'\n",
    "\n",
    "# For dependencies\n",
    "settings['node-attr'] = 'lemma,pos'\n",
    "settings['edge-attr'] = 'deprel'\n",
    "settings['currID'] = 'id'\n",
    "settings['headID'] = 'head'\n",
    "\n",
    "settings['separator-line-machine'] = '</s>'\n",
    "\n",
    "print(settings['line-machine'])\n",
    "print(settings['global-columns'])\n",
    "print(settings['type'], settings['colloc'], settings['token'])"
   ]
  },
  {
   "cell_type": "markdown",
   "metadata": {},
   "source": [
    "Finally, you can set up the file encoding and the paths for corpus and output (although the output is specified separately as well, I think, and the 'corpus-path' is only useful if you do not specify filenames). The *QLVLNewsCorpus*  has a 'latin1' encoding, but we want 'utf-8' for the output."
   ]
  },
  {
   "cell_type": "code",
   "execution_count": 7,
   "metadata": {},
   "outputs": [
    {
     "name": "stdout",
     "output_type": "stream",
     "text": [
      "utf-8\n",
      "utf-8\n",
      "output path:  /home/projects/semmetrix/mariana_wolken/depmodel/qlvl/tests/data/output/\n",
      "corpus path:  /home/projects/semmetrix/mariana_wolken/depmodel/qlvl/tests/data/StanfDepSents/\n"
     ]
    }
   ],
   "source": [
    "# settings['file-encoding'] = 'latin1'\n",
    "settings['file-encoding'] = 'utf-8'\n",
    "settings['outfile-encoding'] = 'utf-8'\n",
    "print(settings['file-encoding'])\n",
    "print(settings['outfile-encoding'])\n",
    "# output_path = settings['output-path']\n",
    "settings['output-path'] = output_path\n",
    "print(\"output path: \", output_path)\n",
    "corpus_name = 'StanfDepSents'\n",
    "settings['corpus-path'] = f\"{mydir}/{corpus_name}/\"\n",
    "# settings['corpus-path'] = '/home/aardvark/corp/nl/'\n",
    "print(\"corpus path: \", settings['corpus-path'])"
   ]
  },
  {
   "cell_type": "markdown",
   "metadata": {},
   "source": [
    "## 2. Frequency lists"
   ]
  },
  {
   "cell_type": "markdown",
   "metadata": {},
   "source": [
    "The Vocab class is a dictionary (but with a `.dataframe` attribute that also returns a Pandas DataFrame with `item` and `freq` column). The steps to create one are twofold:\n",
    "\n",
    "- Set up an ItemFreqHandler class with the settings\n",
    "- Build the frequency list with its `.build_item_freq()` method. The `fnames` argument can be a list of paths or a path to a file with a list of paths. If it is not provided, the full content of `corpus-path` will be used."
   ]
  },
  {
   "cell_type": "code",
   "execution_count": 8,
   "metadata": {},
   "outputs": [
    {
     "name": "stdout",
     "output_type": "stream",
     "text": [
      "WARNING: Not provide the temporary path!\n",
      "WARNING: Use the default tmp directory: '~/tmp'!\n",
      "Building item frequency list...\n"
     ]
    },
    {
     "data": {
      "application/vnd.jupyter.widget-view+json": {
       "model_id": "c124b59e6fe045b883d765184c836810",
       "version_major": 2,
       "version_minor": 0
      },
      "text/plain": [
       "HBox(children=(IntProgress(value=0, max=12), HTML(value='')))"
      ]
     },
     "metadata": {},
     "output_type": "display_data"
    },
    {
     "name": "stdout",
     "output_type": "stream",
     "text": [
      "\n"
     ]
    }
   ],
   "source": [
    "ifhan = ItemFreqHandler(settings = settings)\n",
    "vocab = ifhan.build_item_freq() # by default it uses multiprocessor, which is overkill with the toy Brown corpus"
   ]
  },
  {
   "cell_type": "code",
   "execution_count": 9,
   "metadata": {},
   "outputs": [
    {
     "data": {
      "text/plain": [
       "[('the/D', 53),('boy/N', 25),('eat/V', 22) ... ('ten/C', 1),('ask/V', 1),('about/I', 1)]"
      ]
     },
     "execution_count": 9,
     "metadata": {},
     "output_type": "execute_result"
    }
   ],
   "source": [
    "vocab # it looks like a list of tuples but it is not: you cannot manipulate it as such"
   ]
  },
  {
   "cell_type": "code",
   "execution_count": 10,
   "metadata": {
    "scrolled": true
   },
   "outputs": [
    {
     "data": {
      "text/html": [
       "<div>\n",
       "<style scoped>\n",
       "    .dataframe tbody tr th:only-of-type {\n",
       "        vertical-align: middle;\n",
       "    }\n",
       "\n",
       "    .dataframe tbody tr th {\n",
       "        vertical-align: top;\n",
       "    }\n",
       "\n",
       "    .dataframe thead th {\n",
       "        text-align: right;\n",
       "    }\n",
       "</style>\n",
       "<table border=\"1\" class=\"dataframe\">\n",
       "  <thead>\n",
       "    <tr style=\"text-align: right;\">\n",
       "      <th></th>\n",
       "      <th>item</th>\n",
       "      <th>freq</th>\n",
       "    </tr>\n",
       "  </thead>\n",
       "  <tbody>\n",
       "    <tr>\n",
       "      <th>0</th>\n",
       "      <td>the/D</td>\n",
       "      <td>53</td>\n",
       "    </tr>\n",
       "    <tr>\n",
       "      <th>1</th>\n",
       "      <td>boy/N</td>\n",
       "      <td>25</td>\n",
       "    </tr>\n",
       "    <tr>\n",
       "      <th>2</th>\n",
       "      <td>eat/V</td>\n",
       "      <td>22</td>\n",
       "    </tr>\n",
       "    <tr>\n",
       "      <th>3</th>\n",
       "      <td>apple/N</td>\n",
       "      <td>21</td>\n",
       "    </tr>\n",
       "    <tr>\n",
       "      <th>4</th>\n",
       "      <td>girl/N</td>\n",
       "      <td>21</td>\n",
       "    </tr>\n",
       "    <tr>\n",
       "      <th>5</th>\n",
       "      <td>be/V</td>\n",
       "      <td>11</td>\n",
       "    </tr>\n",
       "    <tr>\n",
       "      <th>6</th>\n",
       "      <td>healthy/J</td>\n",
       "      <td>10</td>\n",
       "    </tr>\n",
       "    <tr>\n",
       "      <th>7</th>\n",
       "      <td>look/V</td>\n",
       "      <td>8</td>\n",
       "    </tr>\n",
       "    <tr>\n",
       "      <th>8</th>\n",
       "      <td>a/D</td>\n",
       "      <td>6</td>\n",
       "    </tr>\n",
       "    <tr>\n",
       "      <th>9</th>\n",
       "      <td>at/I</td>\n",
       "      <td>6</td>\n",
       "    </tr>\n",
       "    <tr>\n",
       "      <th>10</th>\n",
       "      <td>give/V</td>\n",
       "      <td>6</td>\n",
       "    </tr>\n",
       "    <tr>\n",
       "      <th>11</th>\n",
       "      <td>and/C</td>\n",
       "      <td>5</td>\n",
       "    </tr>\n",
       "    <tr>\n",
       "      <th>12</th>\n",
       "      <td>tasty/J</td>\n",
       "      <td>5</td>\n",
       "    </tr>\n",
       "    <tr>\n",
       "      <th>13</th>\n",
       "      <td>food/N</td>\n",
       "      <td>4</td>\n",
       "    </tr>\n",
       "    <tr>\n",
       "      <th>14</th>\n",
       "      <td>old/J</td>\n",
       "      <td>4</td>\n",
       "    </tr>\n",
       "    <tr>\n",
       "      <th>15</th>\n",
       "      <td>,/,</td>\n",
       "      <td>3</td>\n",
       "    </tr>\n",
       "    <tr>\n",
       "      <th>16</th>\n",
       "      <td>an/D</td>\n",
       "      <td>3</td>\n",
       "    </tr>\n",
       "    <tr>\n",
       "      <th>17</th>\n",
       "      <td>by/I</td>\n",
       "      <td>3</td>\n",
       "    </tr>\n",
       "    <tr>\n",
       "      <th>18</th>\n",
       "      <td>sit/V</td>\n",
       "      <td>3</td>\n",
       "    </tr>\n",
       "    <tr>\n",
       "      <th>19</th>\n",
       "      <td>year/N</td>\n",
       "      <td>3</td>\n",
       "    </tr>\n",
       "    <tr>\n",
       "      <th>20</th>\n",
       "      <td>baby/N</td>\n",
       "      <td>2</td>\n",
       "    </tr>\n",
       "    <tr>\n",
       "      <th>21</th>\n",
       "      <td>have/V</td>\n",
       "      <td>2</td>\n",
       "    </tr>\n",
       "    <tr>\n",
       "      <th>22</th>\n",
       "      <td>not/R</td>\n",
       "      <td>2</td>\n",
       "    </tr>\n",
       "    <tr>\n",
       "      <th>23</th>\n",
       "      <td>she/P</td>\n",
       "      <td>2</td>\n",
       "    </tr>\n",
       "    <tr>\n",
       "      <th>24</th>\n",
       "      <td>should/M</td>\n",
       "      <td>2</td>\n",
       "    </tr>\n",
       "    <tr>\n",
       "      <th>25</th>\n",
       "      <td>to/T</td>\n",
       "      <td>2</td>\n",
       "    </tr>\n",
       "    <tr>\n",
       "      <th>26</th>\n",
       "      <td>what/W</td>\n",
       "      <td>2</td>\n",
       "    </tr>\n",
       "    <tr>\n",
       "      <th>27</th>\n",
       "      <td>'s/P</td>\n",
       "      <td>1</td>\n",
       "    </tr>\n",
       "    <tr>\n",
       "      <th>28</th>\n",
       "      <td>about/I</td>\n",
       "      <td>1</td>\n",
       "    </tr>\n",
       "    <tr>\n",
       "      <th>29</th>\n",
       "      <td>about/R</td>\n",
       "      <td>1</td>\n",
       "    </tr>\n",
       "    <tr>\n",
       "      <th>30</th>\n",
       "      <td>all/P</td>\n",
       "      <td>1</td>\n",
       "    </tr>\n",
       "    <tr>\n",
       "      <th>31</th>\n",
       "      <td>as/I</td>\n",
       "      <td>1</td>\n",
       "    </tr>\n",
       "    <tr>\n",
       "      <th>32</th>\n",
       "      <td>ask/V</td>\n",
       "      <td>1</td>\n",
       "    </tr>\n",
       "    <tr>\n",
       "      <th>33</th>\n",
       "      <td>both/D</td>\n",
       "      <td>1</td>\n",
       "    </tr>\n",
       "    <tr>\n",
       "      <th>34</th>\n",
       "      <td>do/V</td>\n",
       "      <td>1</td>\n",
       "    </tr>\n",
       "    <tr>\n",
       "      <th>35</th>\n",
       "      <td>down/R</td>\n",
       "      <td>1</td>\n",
       "    </tr>\n",
       "    <tr>\n",
       "      <th>36</th>\n",
       "      <td>during/I</td>\n",
       "      <td>1</td>\n",
       "    </tr>\n",
       "    <tr>\n",
       "      <th>37</th>\n",
       "      <td>for/I</td>\n",
       "      <td>1</td>\n",
       "    </tr>\n",
       "    <tr>\n",
       "      <th>38</th>\n",
       "      <td>her/P</td>\n",
       "      <td>1</td>\n",
       "    </tr>\n",
       "    <tr>\n",
       "      <th>39</th>\n",
       "      <td>him/P</td>\n",
       "      <td>1</td>\n",
       "    </tr>\n",
       "    <tr>\n",
       "      <th>40</th>\n",
       "      <td>house/N</td>\n",
       "      <td>1</td>\n",
       "    </tr>\n",
       "    <tr>\n",
       "      <th>41</th>\n",
       "      <td>in/I</td>\n",
       "      <td>1</td>\n",
       "    </tr>\n",
       "    <tr>\n",
       "      <th>42</th>\n",
       "      <td>less/R</td>\n",
       "      <td>1</td>\n",
       "    </tr>\n",
       "    <tr>\n",
       "      <th>43</th>\n",
       "      <td>like/V</td>\n",
       "      <td>1</td>\n",
       "    </tr>\n",
       "    <tr>\n",
       "      <th>44</th>\n",
       "      <td>love/V</td>\n",
       "      <td>1</td>\n",
       "    </tr>\n",
       "    <tr>\n",
       "      <th>45</th>\n",
       "      <td>on/I</td>\n",
       "      <td>1</td>\n",
       "    </tr>\n",
       "    <tr>\n",
       "      <th>46</th>\n",
       "      <td>say/V</td>\n",
       "      <td>1</td>\n",
       "    </tr>\n",
       "    <tr>\n",
       "      <th>47</th>\n",
       "      <td>ten/C</td>\n",
       "      <td>1</td>\n",
       "    </tr>\n",
       "    <tr>\n",
       "      <th>48</th>\n",
       "      <td>ten/J</td>\n",
       "      <td>1</td>\n",
       "    </tr>\n",
       "    <tr>\n",
       "      <th>49</th>\n",
       "      <td>that/I</td>\n",
       "      <td>1</td>\n",
       "    </tr>\n",
       "    <tr>\n",
       "      <th>50</th>\n",
       "      <td>that/W</td>\n",
       "      <td>1</td>\n",
       "    </tr>\n",
       "    <tr>\n",
       "      <th>51</th>\n",
       "      <td>this/D</td>\n",
       "      <td>1</td>\n",
       "    </tr>\n",
       "    <tr>\n",
       "      <th>52</th>\n",
       "      <td>very/R</td>\n",
       "      <td>1</td>\n",
       "    </tr>\n",
       "    <tr>\n",
       "      <th>53</th>\n",
       "      <td>which/W</td>\n",
       "      <td>1</td>\n",
       "    </tr>\n",
       "    <tr>\n",
       "      <th>54</th>\n",
       "      <td>without/I</td>\n",
       "      <td>1</td>\n",
       "    </tr>\n",
       "  </tbody>\n",
       "</table>\n",
       "</div>"
      ],
      "text/plain": [
       "         item  freq\n",
       "0       the/D    53\n",
       "1       boy/N    25\n",
       "2       eat/V    22\n",
       "3     apple/N    21\n",
       "4      girl/N    21\n",
       "5        be/V    11\n",
       "6   healthy/J    10\n",
       "7      look/V     8\n",
       "8         a/D     6\n",
       "9        at/I     6\n",
       "10     give/V     6\n",
       "11      and/C     5\n",
       "12    tasty/J     5\n",
       "13     food/N     4\n",
       "14      old/J     4\n",
       "15        ,/,     3\n",
       "16       an/D     3\n",
       "17       by/I     3\n",
       "18      sit/V     3\n",
       "19     year/N     3\n",
       "20     baby/N     2\n",
       "21     have/V     2\n",
       "22      not/R     2\n",
       "23      she/P     2\n",
       "24   should/M     2\n",
       "25       to/T     2\n",
       "26     what/W     2\n",
       "27       's/P     1\n",
       "28    about/I     1\n",
       "29    about/R     1\n",
       "30      all/P     1\n",
       "31       as/I     1\n",
       "32      ask/V     1\n",
       "33     both/D     1\n",
       "34       do/V     1\n",
       "35     down/R     1\n",
       "36   during/I     1\n",
       "37      for/I     1\n",
       "38      her/P     1\n",
       "39      him/P     1\n",
       "40    house/N     1\n",
       "41       in/I     1\n",
       "42     less/R     1\n",
       "43     like/V     1\n",
       "44     love/V     1\n",
       "45       on/I     1\n",
       "46      say/V     1\n",
       "47      ten/C     1\n",
       "48      ten/J     1\n",
       "49     that/I     1\n",
       "50     that/W     1\n",
       "51     this/D     1\n",
       "52     very/R     1\n",
       "53    which/W     1\n",
       "54  without/I     1"
      ]
     },
     "execution_count": 10,
     "metadata": {},
     "output_type": "execute_result"
    }
   ],
   "source": [
    "vocab.dataframe #the dataframe attribute returns a Pandas Dataframe and can be manipulated as such"
   ]
  },
  {
   "cell_type": "code",
   "execution_count": 11,
   "metadata": {},
   "outputs": [
    {
     "data": {
      "text/plain": [
       "53"
      ]
     },
     "execution_count": 11,
     "metadata": {},
     "output_type": "execute_result"
    }
   ],
   "source": [
    "vocab['the/D'] # The names of the items are the keys in the dictionary"
   ]
  },
  {
   "cell_type": "code",
   "execution_count": 12,
   "metadata": {
    "scrolled": true
   },
   "outputs": [
    {
     "data": {
      "text/plain": [
       "['the/D',\n",
       " 'boy/N',\n",
       " 'should/M',\n",
       " 'eat/V',\n",
       " 'an/D',\n",
       " 'apple/N',\n",
       " 'have/V',\n",
       " 'be/V',\n",
       " 'and/C',\n",
       " 'girl/N',\n",
       " 'a/D',\n",
       " 'healthy/J',\n",
       " 'tasty/J',\n",
       " 'all/P',\n",
       " 'old/J',\n",
       " 'give/V',\n",
       " 'look/V',\n",
       " 'at/I',\n",
       " 'in/I',\n",
       " 'house/N',\n",
       " 'for/I',\n",
       " 'say/V',\n",
       " 'that/I',\n",
       " 'that/W',\n",
       " 'baby/N',\n",
       " 'her/P',\n",
       " 'by/I',\n",
       " 'very/R',\n",
       " 'food/N',\n",
       " ',/,',\n",
       " 'during/I',\n",
       " 'year/N',\n",
       " 'like/V',\n",
       " 'to/T',\n",
       " 'without/I',\n",
       " 'sit/V',\n",
       " 'down/R',\n",
       " 'about/R',\n",
       " 'ten/J',\n",
       " 'she/P',\n",
       " 'love/V',\n",
       " 'which/W',\n",
       " 'him/P',\n",
       " 'this/D',\n",
       " 'not/R',\n",
       " 'do/V',\n",
       " 'as/I',\n",
       " 'less/R',\n",
       " 'what/W',\n",
       " 'on/I',\n",
       " \"'s/P\",\n",
       " 'both/D',\n",
       " 'ten/C',\n",
       " 'ask/V',\n",
       " 'about/I']"
      ]
     },
     "execution_count": 12,
     "metadata": {},
     "output_type": "execute_result"
    }
   ],
   "source": [
    "vocab.keys()"
   ]
  },
  {
   "cell_type": "code",
   "execution_count": 13,
   "metadata": {},
   "outputs": [
    {
     "data": {
      "text/plain": [
       "[('the/D', 53),('boy/N', 25),('eat/V', 22) ... ('very/R', 1),('which/W', 1),('without/I', 1)]"
      ]
     },
     "execution_count": 13,
     "metadata": {},
     "output_type": "execute_result"
    }
   ],
   "source": [
    "Vocab(vocab.dataframe) # The dataframe can be retransformed into a Vocab object with Vocab"
   ]
  },
  {
   "cell_type": "code",
   "execution_count": 14,
   "metadata": {},
   "outputs": [
    {
     "name": "stdout",
     "output_type": "stream",
     "text": [
      "Saving frequency list (vocabulary)... (in 'utf-8')\n",
      "Stored in /home/projects/semmetrix/mariana_wolken/depmodel/qlvl/tests/data/output//StanfDepSents.nfreq\n"
     ]
    },
    {
     "data": {
      "text/plain": [
       "[('the/D', 53),('boy/N', 25),('eat/V', 22) ... ('ten/C', 1),('ask/V', 1),('about/I', 1)]"
      ]
     },
     "execution_count": 14,
     "metadata": {},
     "output_type": "execute_result"
    }
   ],
   "source": [
    "vocab_fname = f\"{output_path}/{corpus_name}.nfreq\"\n",
    "vocab.save(vocab_fname) # save method\n",
    "Vocab.load(vocab_fname) # load method"
   ]
  },
  {
   "cell_type": "markdown",
   "metadata": {},
   "source": [
    "This is probably done only once per corpus. Once the main vocabulary list is compiled and stored, it can be further filtered.\n",
    "\n",
    "It can be used to simply extract the frequency of a lemma, and for the `row_vocab` and `col_vocab` arguments of the `build_col_freq` method below."
   ]
  },
  {
   "cell_type": "markdown",
   "metadata": {},
   "source": [
    "## 3. Co-occurrence matrix"
   ]
  },
  {
   "cell_type": "markdown",
   "metadata": {},
   "source": [
    "### 3.1. Creating type-level matrices "
   ]
  },
  {
   "cell_type": "markdown",
   "metadata": {},
   "source": [
    "Among the important settings to be fed to the object is the window span for the co-occurrence frequency."
   ]
  },
  {
   "cell_type": "code",
   "execution_count": 15,
   "metadata": {},
   "outputs": [],
   "source": [
    "settings['left-span'] = 4\n",
    "settings['right-span'] = 4"
   ]
  },
  {
   "cell_type": "markdown",
   "metadata": {},
   "source": [
    "#### Bag-of-words\n",
    "\n",
    "Like creating the vocabulary list, creating a co-occurrence frequency matrix has two steps: set up the `ColFreqHandler` object and running its `.build_col_freq()` method."
   ]
  },
  {
   "cell_type": "code",
   "execution_count": 16,
   "metadata": {
    "scrolled": true
   },
   "outputs": [
    {
     "name": "stdout",
     "output_type": "stream",
     "text": [
      "WARNING: Not provide the temporary path!\n",
      "WARNING: Use the default tmp directory: '~/tmp'!\n"
     ]
    }
   ],
   "source": [
    "cfhan = ColFreqHandler(settings=settings, row_vocab = vocab, col_vocab = vocab)"
   ]
  },
  {
   "cell_type": "markdown",
   "metadata": {},
   "source": [
    "The `.build_col_freq()` method also has an optional `fname` argument requiring a list of paths or a path to a list of paths.\n",
    "In addition, `row_vocab` and `col_vocab` ask for `Vocab` objects like `vocab` above.\n",
    "\n",
    "In principle, you would create one overarching collocational matrix for all weight computations, with the full vocabulary for both rows and columns. But if the corpus is big, it may result in a huge files that can take a few minutes to load (and hours to create), so if you are only interested in the co-occurrence frequency between certain groups of items, you can use filtered vocabularies.\n",
    "\n",
    "The result is a `TypeTokenMatrix` object."
   ]
  },
  {
   "cell_type": "code",
   "execution_count": 17,
   "metadata": {
    "scrolled": false
   },
   "outputs": [
    {
     "name": "stdout",
     "output_type": "stream",
     "text": [
      "Building collocate frequency matrix...\n"
     ]
    },
    {
     "data": {
      "text/plain": [
       "[1, 3]  of/C  be/V  a/D\n",
       "the/D   1     11    5"
      ]
     },
     "execution_count": 17,
     "metadata": {},
     "output_type": "execute_result"
    }
   ],
   "source": [
    "freqMTX = cfhan.build_col_freq()\n",
    "freqMTX.submatrix(row = [\"the/D\"], col=['of/C', 'be/V', 'a/D'])"
   ]
  },
  {
   "cell_type": "code",
   "execution_count": 18,
   "metadata": {
    "scrolled": false
   },
   "outputs": [
    {
     "name": "stdout",
     "output_type": "stream",
     "text": [
      "WARNING: Not provide the temporary path!\n",
      "WARNING: Use the default tmp directory: '~/tmp'!\n",
      "Building collocate frequency matrix...\n"
     ]
    },
    {
     "data": {
      "text/plain": [
       "[1, 2]  a/D  be/V\n",
       "the/D   5    11"
      ]
     },
     "execution_count": 18,
     "metadata": {},
     "output_type": "execute_result"
    }
   ],
   "source": [
    "sub_cfhan = ColFreqHandler(settings=settings, row_vocab=vocab[['the/D']], col_vocab=vocab[['of/C', 'be/V', 'a/D']])\n",
    "subfreqMTX = sub_cfhan.build_col_freq()\n",
    "subfreqMTX"
   ]
  },
  {
   "cell_type": "code",
   "execution_count": 19,
   "metadata": {
    "scrolled": true
   },
   "outputs": [
    {
     "name": "stdout",
     "output_type": "stream",
     "text": [
      "\n",
      "Saving matrix...\n",
      "Stored in file:\n",
      "  /home/projects/semmetrix/mariana_wolken/depmodel/qlvl/tests/data/output//StanfDepSents.wcmx.pac\n"
     ]
    },
    {
     "data": {
      "text/plain": [
       "[55, 55]  's/P  ,/,  a/D  about/I  about/R  all/P  an/D  ...\n",
       "'s/P      NaN   NaN  NaN  NaN      NaN      NaN    NaN   ...\n",
       ",/,       NaN   2    2    NaN      NaN      NaN    NaN   ...\n",
       "a/D       NaN   2    NaN  NaN      NaN      NaN    NaN   ...\n",
       "about/I   NaN   NaN  NaN  NaN      NaN      NaN    NaN   ...\n",
       "about/R   NaN   NaN  NaN  NaN      NaN      NaN    NaN   ...\n",
       "all/P     NaN   NaN  NaN  NaN      NaN      NaN    NaN   ...\n",
       "an/D      NaN   NaN  NaN  NaN      NaN      NaN    NaN   ...\n",
       "...       ...   ...  ...  ...      ...      ...    ...   ..."
      ]
     },
     "execution_count": 19,
     "metadata": {},
     "output_type": "execute_result"
    }
   ],
   "source": [
    "fname = f\"{output_path}/{corpus_name}.wcmx.pac\" # ideally you will code parameter settings into the name\n",
    "freqMTX.save(fname) # save method\n",
    "TypeTokenMatrix.load(fname)"
   ]
  },
  {
   "cell_type": "markdown",
   "metadata": {},
   "source": [
    "Important attributes of `TypeTokenMatrix` are `row_items` and `col_items`: the names of the rows and columns.\n",
    "\n",
    "One of the important methods of the `TypeTokenMatrix` class is `.submatrix()`, which takes lists of items, as would be returned by `row_items` and `col_items`, to **subset the matrix**. *However*, it does not respond well when the requested list includes items that are missing from the row/column names of the matrix. It is best to first obtain the intersection between the items in the row/column names and the desired list before using it for subsetting."
   ]
  },
  {
   "cell_type": "code",
   "execution_count": 20,
   "metadata": {
    "scrolled": true
   },
   "outputs": [
    {
     "data": {
      "text/plain": [
       "[1, 3]  of/C  be/V  a/D\n",
       "the/D   1     11    5"
      ]
     },
     "execution_count": 20,
     "metadata": {},
     "output_type": "execute_result"
    }
   ],
   "source": [
    "freqMTX.submatrix(row = [\"the/D\"], col=['of/C', 'be/V', 'a/D'])"
   ]
  },
  {
   "cell_type": "code",
   "execution_count": 21,
   "metadata": {},
   "outputs": [
    {
     "data": {
      "text/plain": [
       "False"
      ]
     },
     "execution_count": 21,
     "metadata": {},
     "output_type": "execute_result"
    }
   ],
   "source": [
    "\"bird/N\" in freqMTX.col_items"
   ]
  },
  {
   "cell_type": "code",
   "execution_count": 22,
   "metadata": {},
   "outputs": [
    {
     "data": {
      "text/plain": [
       "[1, 3]  of/C  be/V  bird/N\n",
       "the/D   1     11    1"
      ]
     },
     "execution_count": 22,
     "metadata": {},
     "output_type": "execute_result"
    }
   ],
   "source": [
    "freqMTX.submatrix(row = [\"the/D\"], col=['of/C', 'be/V', 'bird/N'])\n",
    "# Instead of an error or warning or just dropping the extra element, it copies the value of another column and creates it"
   ]
  },
  {
   "cell_type": "code",
   "execution_count": 23,
   "metadata": {
    "scrolled": true
   },
   "outputs": [
    {
     "data": {
      "text/plain": [
       "[1, 1]  be/V\n",
       "the/D   11"
      ]
     },
     "execution_count": 23,
     "metadata": {},
     "output_type": "execute_result"
    }
   ],
   "source": [
    "freqMTX.submatrix(row = [\"the/D\"], col=[c for c in ['of/C', 'be/V', 'bird/N'] if c in freqMTX.col_items])\n",
    "# Best to first check the intersection"
   ]
  },
  {
   "cell_type": "markdown",
   "metadata": {},
   "source": [
    "#### Dependency-based\n",
    "\n",
    "Dependency-based models require yet another piece of information: templates. On the one hand, we have .graphml files that indicate relationships between elements. On the other, we have .xml files which specify the role of the node and features in the relationships. For example, in .graphml you would say that you want the relationship between a verb and its direct object; in the .xml, you would clarify that the verb is your feature and the object is your target. You would also specify whether you want the lemma of the verb as the feature or, instead, the full path (just *eat/V* or `eat/v->dobj:#T`, with `#T` filling in the role of the target.\n",
    "\n",
    "For the type-level, we will exemplify with patterns that do not specify the *kind* of relationships but the number of steps, only selecting paths with one step between the target and the context word (*aka* LEMMAPATH1).\n",
    "\n",
    "First, we have to upload the files."
   ]
  },
  {
   "cell_type": "code",
   "execution_count": 24,
   "metadata": {},
   "outputs": [],
   "source": [
    "path_graphml_fname = f\"{mydir}/templates/LEMMAPATH-Stanford.template.graphml\"\n",
    "path_patterns = PatternGraph.read_graphml(path_graphml_fname)\n",
    "\n",
    "path_macro_fname = f\"{mydir}/templates/LEMMAPATH1-Stanford.target-feature-macro.xml\"\n",
    "path_macros = MacroGraph.read_xml(path_macro_fname, path_patterns)"
   ]
  },
  {
   "cell_type": "markdown",
   "metadata": {},
   "source": [
    "This is a fragment of the raw `path_patterns`, the .graphml file:\n",
    "\n",
    "```xml\n",
    "<graphml xmlns=\"http://graphml.graphdrawing.org/xmlns\"\n",
    "      xmlns:xsi=\"http://www.w3.org/2001/XMLSchema-instance\"\n",
    "      xsi:schemaLocation=\"http://graphml.graphdrawing.org/xmlns\n",
    "        http://graphml.graphdrawing.org/xmlns/1.0/graphml.xsd\">\n",
    "    <key id=\"n1\" for=\"node\" attr.name=\"lemma\" attr.type=\"string\">\n",
    "        <default>(.+)</default>\n",
    "    </key>\n",
    "    <key id=\"n2\" for=\"node\" attr.name=\"pos\" attr.type=\"string\">\n",
    "        <default>(\\w+)</default>\n",
    "    </key>\n",
    "    <key id=\"e1\" for=\"edge\" attr.name=\"deprel\" attr.type=\"string\"/>\n",
    "    <graph id=\"1\" edgedefault=\"directed\">\n",
    "        <node id=\"1\"></node>\n",
    "        <node id=\"2\"></node>\n",
    "        <edge source=\"1\" target=\"2\">\n",
    "            <data key=\"e1\">\\w+</data>\n",
    "        </edge>\n",
    "    </graph>\n",
    "</graphml>\n",
    "```\n",
    "\n",
    "The structure is as follows: the main element is a `<graphml>` tag, that always stay the same, within which we have three `<key>` tags setting up the main elements we are now interested in: lemma and pos for the nodes, and deprel for the key. Inside them, the `<default>` tag lets us set up a default regex expression for filtering these items, but then we can make further specifications within the specific graphs. Afterwards, we can add as many `<graph>` tags as we want, each of them representing one pattern to match.\n",
    "\n",
    "Each `<graph>` tag has an id (which is a string with a number) and a property `edgedefault=\"directed\"` (not sure how compulsory that is). Inside the `<graph>` tag we can have `<node>` and `<edge>` tags indicating the nodes (items) and edges (relationships) in the pattern. Here we have two nodes, 1 and 2, joined by an edge that goes from 1 (source attribute) to 2 (target attribute): node 1 is the head of node 2, e.g the verb for its direct object. We could specify that we want the direct object by filling in the `<data>` element within `<edge>` as \"dobj\" instead of \"\\w+\". Note that this `<data>` element has a `key` attribute with value \"e1\", meaning that it's talking about a \"deprel\" element. Within the nodes, we could have a similar `<data>` element with a `key` attribute and valeue \"n1\" if we want to filter by lemma or \"n2\" if we want to filter by part-of-speech.\n",
    "\n",
    "Next, we have a fragment of the raw `path_macros`, the .xml file:\n",
    "\n",
    "```xml\n",
    "<?xml version=\"1.0\" encoding=\"UTF-8\"?>\n",
    "<target-feature-list>\n",
    "    <target-fmt>\n",
    "        <node-fmt>\n",
    "            <lemma group=\"1\"/>\n",
    "            <pos group=\"1\"/>\n",
    "            <fid group=\"1\"/>\n",
    "            <lid group=\"1\"/>\n",
    "            <string connector=\"/\">lemma/pos/fid/lid</string>\n",
    "        </node-fmt>\n",
    "    </target-fmt>\n",
    "    <feature-fmt>\n",
    "        <node-fmt>\n",
    "            <lemma group=\"1\"/>\n",
    "            <pos group=\"1\"/>\n",
    "            <string connector=\"/\">lemma/pos</string>\n",
    "        </node-fmt>\n",
    "        <edge-fmt>deprel</edge-fmt>\n",
    "    </feature-fmt>\n",
    "    <target-feature-macro id=\"1\">\n",
    "        <sub-graph-pattern id=\"1\"/>\n",
    "        <target nodeID=\"1\">\n",
    "            <description>Empty</description>\n",
    "        </target>\n",
    "        <feature featureID=\"2\">\n",
    "            <description>Words that depend directly on the target.</description>\n",
    "        </feature>\n",
    "    </target-feature-macro>\n",
    "</target-feature-list>\n",
    "```\n",
    "\n",
    "In this case, after the small xml preamble, we have the mail element `<target-feature-list>`, within which we find one `<target-fmt>` element to specify the format of the target, one `<feature-fmt>` tag to specify the format of the feature elements (the columns of our matrices), and as many `<target-feature-macro>` elements as we have templates/macros to describe.\n",
    "\n",
    "In the `<target-fmt>` element, the `<node-fmt>` element gives instructions to capture the elements of a node and chain them. The `fid` and `lid` elements are only relevant at token-level. The same goes for `<feature-fmt>`, where a reference to the edge is included.\n",
    "\n",
    "The `<target-feature-macro>` element has an attribute \"id\" (with a number as a string) and three child elements. The first, `<sub-graph-pattern>`, also has an attribute \"id\" that points to the id of a `<graph>` element in the .graphml file. Totally different from the \"id\" of the parent element. The `<target>` and `<feature>` elements point to the nodes in that `<graph>` that take the roles of node and feature. Here, because the \"nodeID\" attribute of `<target>` is \"1\", the target is the head of the relationship in that graph; because the \"featureID\" attribute of `<feature>` is \"2\", the feature is the dependent. Optionally, you can add a description of the item. With this format, the features will be the lemma/pos combination; if you exclude the \"featureID\" attribute altogether, the full template will become the feature (including dependency information)."
   ]
  },
  {
   "cell_type": "code",
   "execution_count": 25,
   "metadata": {
    "scrolled": false
   },
   "outputs": [
    {
     "data": {
      "image/png": "[encoded data removed]",
      "text/plain": [
       "<Figure size 1440x2304 with 2 Axes>"
      ]
     },
     "metadata": {},
     "output_type": "display_data"
    }
   ],
   "source": [
    "from nephosem.specutils.deputils import parse_pattern, draw_tree, draw_match, draw_labels, get_root\n",
    "import matplotlib.pyplot as plt\n",
    "%matplotlib inline\n",
    "def plot_patterns(macros_list):\n",
    "    plt.rcParams['figure.figsize'] = (20.0, 32.0)\n",
    "    for i in range(len(macros_list)):\n",
    "        plt.subplot(5, 2, i+1)\n",
    "        draw_labels(macros_list[i].graph, v_labels='pos', e_labels='deprel')\n",
    "    plt.show()\n",
    "\n",
    "# This shows the patterns included with these files --- it is always the same pattern,\n",
    "# but in the macros file we include relationships in both directions, so we have two macros.\n",
    "plot_patterns(path_macros)"
   ]
  },
  {
   "cell_type": "code",
   "execution_count": 26,
   "metadata": {
    "scrolled": true
   },
   "outputs": [
    {
     "name": "stdout",
     "output_type": "stream",
     "text": [
      "WARNING: Not provide the temporary path!\n",
      "WARNING: Use the default tmp directory: '~/tmp'!\n",
      "Building dependency features...\n"
     ]
    },
    {
     "data": {
      "application/vnd.jupyter.widget-view+json": {
       "model_id": "c60b49ccfb4a413aa127b4d46805068c",
       "version_major": 2,
       "version_minor": 0
      },
      "text/plain": [
       "HBox(children=(IntProgress(value=0, max=12), HTML(value='')))"
      ]
     },
     "metadata": {},
     "output_type": "display_data"
    },
    {
     "name": "stdout",
     "output_type": "stream",
     "text": [
      "\n",
      "Building matrix...\n"
     ]
    },
    {
     "data": {
      "text/plain": [
       "[1, 12]  's/P  apple/N  ask/V  at/I  boy/N  by/I  eat/V  ...\n",
       "girl/N   1     1        1      1     2      1     6      ..."
      ]
     },
     "execution_count": 26,
     "metadata": {},
     "output_type": "execute_result"
    }
   ],
   "source": [
    "# The only difference between type- and token-level here is the \"mode\" argument\n",
    "path_dephan_type = DepRelHandler(settings, workers=4, targets = vocab, mode='type')\n",
    "path_dephan_type.read_templates(macros=path_macros)\n",
    "pathMTX = path_dephan_type.build_dependency()\n",
    "pathMTX.submatrix(row = [\"girl/N\"]).drop(axis = 1, n_nonzero = 0)"
   ]
  },
  {
   "cell_type": "code",
   "execution_count": 27,
   "metadata": {
    "scrolled": true
   },
   "outputs": [
    {
     "name": "stdout",
     "output_type": "stream",
     "text": [
      "WARNING: Not provide the temporary path!\n",
      "WARNING: Use the default tmp directory: '~/tmp'!\n",
      "Building dependency features...\n"
     ]
    },
    {
     "data": {
      "application/vnd.jupyter.widget-view+json": {
       "model_id": "d61181bea2804c0c8f9dd3f854a580d2",
       "version_major": 2,
       "version_minor": 0
      },
      "text/plain": [
       "HBox(children=(IntProgress(value=0, max=12), HTML(value='')))"
      ]
     },
     "metadata": {},
     "output_type": "display_data"
    },
    {
     "name": "stdout",
     "output_type": "stream",
     "text": [
      "\n",
      "Building matrix...\n"
     ]
    },
    {
     "data": {
      "text/plain": [
       "[1, 12]  #T#->*:'s/P  #T#->*:old/J  #T#->*:the/D  apple/N->*:#T#  ask/V->*:#T#  at/I->*:#T#  boy/N->*:#T#  ...\n",
       "girl/N   1            1             21            1               1             1            2             ..."
      ]
     },
     "execution_count": 27,
     "metadata": {},
     "output_type": "execute_result"
    }
   ],
   "source": [
    "pathfull_macro_fname = f\"{mydir}/templates/LEMMAPATH1-Stanford-full.target-feature-macro.xml\"\n",
    "pathfull_macros = MacroGraph.read_xml(pathfull_macro_fname, path_patterns)\n",
    "pathfull_dephan_type = DepRelHandler(settings, workers=4, targets = vocab, mode='type')\n",
    "pathfull_dephan_type.read_templates(macros=pathfull_macros)\n",
    "pathfullMTX = pathfull_dephan_type.build_dependency()\n",
    "pathfullMTX.submatrix(row = [\"girl/N\"]).drop(axis = 1, n_nonzero = 0)\n",
    "# Note that the dependency itself is replaced by \"*\" because the regex in the patterns file does not capture it\n",
    "# (it doesn't have parentheses)"
   ]
  },
  {
   "cell_type": "markdown",
   "metadata": {},
   "source": [
    "In practice, we will be more interested in the transposed counterpart of this matrix: when we obtain token-level matrices of this kind, the patterns will be the columns and will need to be multiplied by a SOCC matrix where the patterns are the rows :)."
   ]
  },
  {
   "cell_type": "code",
   "execution_count": 28,
   "metadata": {},
   "outputs": [
    {
     "data": {
      "text/plain": [
       "[24, 2]        girl/N  boy/N\n",
       "#T#->*:'s/P    1       NaN\n",
       "#T#->*:a/D     NaN     2\n",
       "#T#->*:all/P   NaN     1\n",
       "#T#->*:and/C   NaN     2\n",
       "#T#->*:baby/N  NaN     1\n",
       "#T#->*:both/D  NaN     1\n",
       "#T#->*:girl/N  NaN     2\n",
       "...            ...     ..."
      ]
     },
     "execution_count": 28,
     "metadata": {},
     "output_type": "execute_result"
    }
   ],
   "source": [
    "pathfullMTX.transpose().submatrix(col = [\"girl/N\", \"boy/N\"]).drop(axis = 0, n_nonzero = 0)"
   ]
  },
  {
   "cell_type": "markdown",
   "metadata": {},
   "source": [
    "### 3.2 Manipulating co-occurrence matrices"
   ]
  },
  {
   "cell_type": "markdown",
   "metadata": {},
   "source": [
    "One of the things you will want to do is **compute association measures**, which will be the values of the vectors, either for type or token level matrices. This is done with the `compute_association()`, a function that takes a (sub)matrix, row and column vocabulary objects and the kind of measure.\n",
    "\n",
    "Something else you might be interested in is computing a distance matrix, but we will look into that with the token-level matrix (even though it is, of course, possible at type-level as well)."
   ]
  },
  {
   "cell_type": "code",
   "execution_count": 29,
   "metadata": {
    "scrolled": true
   },
   "outputs": [
    {
     "data": {
      "application/vnd.jupyter.widget-view+json": {
       "model_id": "8de14ea87b544530bbdb7c70269b33f2",
       "version_major": 2,
       "version_minor": 0
      },
      "text/plain": [
       "HBox(children=(IntProgress(value=0, max=606), HTML(value='')))"
      ]
     },
     "metadata": {},
     "output_type": "display_data"
    },
    {
     "name": "stdout",
     "output_type": "stream",
     "text": [
      "\n",
      "\n",
      "************************************\n",
      "function    = compute_association\n",
      "  time      = 0.01668 sec\n",
      "************************************\n",
      "\n"
     ]
    },
    {
     "data": {
      "text/plain": [
       "[55, 55]  's/P  ,/,        a/D        about/I  about/R  all/P  an/D  ...\n",
       "'s/P      NaN   NaN        NaN        NaN      NaN      NaN    NaN   ...\n",
       ",/,       NaN   2.0384464  1.2940059  NaN      NaN      NaN    NaN   ...\n",
       "a/D       NaN   1.2940059  NaN        NaN      NaN      NaN    NaN   ...\n",
       "about/I   NaN   NaN        NaN        NaN      NaN      NaN    NaN   ...\n",
       "about/R   NaN   NaN        NaN        NaN      NaN      NaN    NaN   ...\n",
       "all/P     NaN   NaN        NaN        NaN      NaN      NaN    NaN   ...\n",
       "an/D      NaN   NaN        NaN        NaN      NaN      NaN    NaN   ...\n",
       "...       ...   ...        ...        ...      ...      ...    ...   ..."
      ]
     },
     "execution_count": 29,
     "metadata": {},
     "output_type": "execute_result"
    }
   ],
   "source": [
    "nfreq = Vocab(freqMTX.sum(axis=1))\n",
    "cfreq = Vocab(freqMTX.sum(axis=0))\n",
    "pmi = compute_association(freqMTX, nfreq=nfreq, cfreq=cfreq, meas = 'pmi')\n",
    "pmi"
   ]
  },
  {
   "cell_type": "markdown",
   "metadata": {},
   "source": [
    "Even if you only want the values for a few of the items, you will need to use the full row and column sums for `nfreq` and `cfreq`.\n",
    "\n",
    "You can also use the `.drop()` method (of `TypeTokenMatrix`) to **remove** all the rows (`axis = 0`) or columns (`axis = 1`) with no positive values."
   ]
  },
  {
   "cell_type": "code",
   "execution_count": 30,
   "metadata": {
    "scrolled": false
   },
   "outputs": [
    {
     "data": {
      "application/vnd.jupyter.widget-view+json": {
       "model_id": "9655b00a815840cd9bb4646db9c4d809",
       "version_major": 2,
       "version_minor": 0
      },
      "text/plain": [
       "HBox(children=(IntProgress(value=0, max=53), HTML(value='')))"
      ]
     },
     "metadata": {},
     "output_type": "display_data"
    },
    {
     "name": "stdout",
     "output_type": "stream",
     "text": [
      "\n",
      "\n",
      "************************************\n",
      "function    = compute_association\n",
      "  time      = 0.01447 sec\n",
      "************************************\n",
      "\n"
     ]
    },
    {
     "data": {
      "text/plain": [
       "[1, 53]  's/P         ,/,        a/D          about/I      about/R      all/P       an/D        ...\n",
       "the/D    0.030027887  -0.611826  -0.43997574  -0.15229367  0.030027887  0.25317144  -1.0685844  ..."
      ]
     },
     "execution_count": 30,
     "metadata": {},
     "output_type": "execute_result"
    }
   ],
   "source": [
    "subMTX = freqMTX.submatrix(row = [\"the/D\"]).drop(axis = 1, n_nonzero = 0)\n",
    "subpmi = compute_association(subMTX, nfreq=nfreq, cfreq=cfreq, meas = 'pmi')\n",
    "subpmi"
   ]
  },
  {
   "cell_type": "markdown",
   "metadata": {},
   "source": [
    "Read the documentation to find other possible measures."
   ]
  },
  {
   "cell_type": "code",
   "execution_count": 31,
   "metadata": {},
   "outputs": [
    {
     "data": {
      "application/vnd.jupyter.widget-view+json": {
       "model_id": "a09b18b8d6474667b1f2cf40cdb8bd7c",
       "version_major": 2,
       "version_minor": 0
      },
      "text/plain": [
       "HBox(children=(IntProgress(value=0, max=53), HTML(value='')))"
      ]
     },
     "metadata": {},
     "output_type": "display_data"
    },
    {
     "name": "stdout",
     "output_type": "stream",
     "text": [
      "\n",
      "\n",
      "************************************\n",
      "function    = compute_association\n",
      "  time      = 0.01483 sec\n",
      "************************************\n",
      "\n"
     ]
    },
    {
     "data": {
      "text/plain": [
       "[1, 53]  's/P          ,/,        a/D        about/I      about/R       all/P      an/D       ...\n",
       "the/D    0.0011144616  1.1206855  1.3934952  0.030076249  0.0011144616  0.0751342  1.9897448  ..."
      ]
     },
     "execution_count": 31,
     "metadata": {},
     "output_type": "execute_result"
    }
   ],
   "source": [
    "subllr = compute_association(subMTX, nfreq=nfreq, cfreq=cfreq, meas = 'llik')\n",
    "subllr"
   ]
  },
  {
   "cell_type": "markdown",
   "metadata": {},
   "source": [
    "## 4. Token level\n",
    "\n",
    "All matrices below belong to the `TypeTokenMatrix` class, so even if I don't, they can be saved with the `.save()` method and loaded with `TypeTokenMatrix.load()`."
   ]
  },
  {
   "cell_type": "markdown",
   "metadata": {},
   "source": [
    "### 4.1 Collecting tokens"
   ]
  },
  {
   "cell_type": "code",
   "execution_count": 32,
   "metadata": {
    "scrolled": true
   },
   "outputs": [],
   "source": [
    "query = vocab.subvocab([\"girl/N\"]) # which is equivalent to vocab[[\"girl/N\"]]"
   ]
  },
  {
   "cell_type": "markdown",
   "metadata": {},
   "source": [
    "#### Bag-of-words"
   ]
  },
  {
   "cell_type": "markdown",
   "metadata": {},
   "source": [
    "As always, collecting tokens go into two steps: setting up the `TokenHandler` class and then running the `retrieve_tokens()` method (there are other alternative methods too, I understand). The `query` argument of the class is a Vocab object with the types from which we want the tokens.\n",
    "Among the important settings you might want to reconfigure are the **window span** (like above) and the `single-boundary-machine`, a regular expression to match lines that correspond to sentence (or whatever) boundaries, such as `^</sentence>$` in the case of *QLVLNewsCorpus* or `</s>` for this case.\n",
    "\n",
    "Next to `fnames`, the method (as well as the class itself) includes a `col_vocab` argument which takes a `Vocab` object to select which context words can be captured (rather than, by default, all context words).\n",
    "\n",
    "I find `fnames` particularly useful to avoid browsing all of a huge corpus if I already know that I want to extract a sample and which files that sample resides in."
   ]
  },
  {
   "cell_type": "markdown",
   "metadata": {},
   "source": [
    "(Some notes comparing to the old code:\n",
    "\n",
    "Before, the code required us to specify col_vocab, or it crashed. Now it doesn't.\n",
    "\n",
    "The new code also ignores all the context words that do not occur in the window of the tokens (unlike the previous code, which could include many empty columns)."
   ]
  },
  {
   "cell_type": "code",
   "execution_count": 33,
   "metadata": {
    "scrolled": false
   },
   "outputs": [
    {
     "name": "stdout",
     "output_type": "stream",
     "text": [
      "WARNING: Not provide the temporary path!\n",
      "WARNING: Use the default tmp directory: '~/tmp'!\n",
      "Scanning tokens of queries in corpus...\n"
     ]
    },
    {
     "data": {
      "text/plain": [
       "[21, 39]                   that/W  which/W  about/R  be/V  ,/,  this/D  apple/N  ...\n",
       "girl/N/StanfDepSents.4/7   NaN     NaN      NaN      NaN   NaN  NaN     4        ...\n",
       "girl/N/StanfDepSents.4/15  4       NaN      NaN      NaN   NaN  NaN     3        ...\n",
       "girl/N/StanfDepSents.3/21  NaN     NaN      NaN      NaN   NaN  NaN     NaN      ...\n",
       "girl/N/StanfDepSents.7/7   NaN     NaN      NaN      NaN   NaN  NaN     3        ...\n",
       "girl/N/StanfDepSents.7/25  NaN     NaN      NaN      NaN   NaN  NaN     3        ...\n",
       "girl/N/StanfDepSents.2/29  NaN     NaN      NaN      -4    NaN  NaN     NaN      ...\n",
       "girl/N/StanfDepSents.9/14  NaN     NaN      NaN      NaN   NaN  NaN     NaN      ...\n",
       "...                        ...     ...      ...      ...   ...  ...     ...      ..."
      ]
     },
     "execution_count": 33,
     "metadata": {},
     "output_type": "execute_result"
    }
   ],
   "source": [
    "tokhan = TokenHandler(query, settings=settings)\n",
    "tokens = tokhan.retrieve_tokens()\n",
    "tokens"
   ]
  },
  {
   "cell_type": "markdown",
   "metadata": {},
   "source": [
    "For the ones interested in running `retrieve_token_nodes()` instead, that method doesn't exist anymore as a separate function, but its output can be found in the `type2toks` attribute of the `TokenHandler`.\n",
    "\n",
    "The `type2toks` attribute is then a dictionary with types as keys and and a `TypeNode` object as value, which has `tokens` attribute that is a list of `TokenNode` objects. From them, we can create a concordance with a function like `tokenConcordance()` below :)"
   ]
  },
  {
   "cell_type": "code",
   "execution_count": 34,
   "metadata": {},
   "outputs": [
    {
     "data": {
      "text/plain": [
       "{'girl/N': girl/N}"
      ]
     },
     "execution_count": 34,
     "metadata": {},
     "output_type": "execute_result"
    }
   ],
   "source": [
    "tokhan.type2toks"
   ]
  },
  {
   "cell_type": "code",
   "execution_count": 35,
   "metadata": {},
   "outputs": [
    {
     "data": {
      "text/plain": [
       "qlvl.core.terms.TypeNode"
      ]
     },
     "execution_count": 35,
     "metadata": {},
     "output_type": "execute_result"
    }
   ],
   "source": [
    "type(tokhan.type2toks[\"girl/N\"])"
   ]
  },
  {
   "cell_type": "code",
   "execution_count": 57,
   "metadata": {},
   "outputs": [
    {
     "data": {
      "text/plain": [
       "qlvl.core.terms.TokenNode"
      ]
     },
     "execution_count": 57,
     "metadata": {},
     "output_type": "execute_result"
    }
   ],
   "source": [
    "firstToken = tokhan.type2toks[\"girl/N\"].tokens[0]\n",
    "type(firstToken)"
   ]
  },
  {
   "cell_type": "code",
   "execution_count": 80,
   "metadata": {},
   "outputs": [],
   "source": [
    "def tokenConcordance(token):\n",
    "    leftContext = \" \".join([x.word for x in token.lcollocs])\n",
    "    rightContext = \" \".join([x.word for x in token.rcollocs])\n",
    "    return f\"{leftContext} {token.word} {rightContext}\""
   ]
  },
  {
   "cell_type": "code",
   "execution_count": 70,
   "metadata": {},
   "outputs": [
    {
     "data": {
      "text/plain": [
       "'boy says that the girl should eat the apple'"
      ]
     },
     "execution_count": 70,
     "metadata": {},
     "output_type": "execute_result"
    }
   ],
   "source": [
    "tokenConcordance(firstToken)"
   ]
  },
  {
   "cell_type": "code",
   "execution_count": 81,
   "metadata": {
    "scrolled": true
   },
   "outputs": [
    {
     "data": {
      "text/html": [
       "<div>\n",
       "<style scoped>\n",
       "    .dataframe tbody tr th:only-of-type {\n",
       "        vertical-align: middle;\n",
       "    }\n",
       "\n",
       "    .dataframe tbody tr th {\n",
       "        vertical-align: top;\n",
       "    }\n",
       "\n",
       "    .dataframe thead th {\n",
       "        text-align: right;\n",
       "    }\n",
       "</style>\n",
       "<table border=\"1\" class=\"dataframe\">\n",
       "  <thead>\n",
       "    <tr style=\"text-align: right;\">\n",
       "      <th></th>\n",
       "      <th>text</th>\n",
       "      <th>token_id</th>\n",
       "    </tr>\n",
       "  </thead>\n",
       "  <tbody>\n",
       "    <tr>\n",
       "      <th>0</th>\n",
       "      <td>boy says that the girl should eat the apple</td>\n",
       "      <td>girl/N/StanfDepSents.4/7</td>\n",
       "    </tr>\n",
       "    <tr>\n",
       "      <th>1</th>\n",
       "      <td>The girl eats the apple that</td>\n",
       "      <td>girl/N/StanfDepSents.4/15</td>\n",
       "    </tr>\n",
       "    <tr>\n",
       "      <th>2</th>\n",
       "      <td>The boy and the girl eat a healthy and</td>\n",
       "      <td>girl/N/StanfDepSents.3/21</td>\n",
       "    </tr>\n",
       "    <tr>\n",
       "      <th>3</th>\n",
       "      <td>old boy gives the girl a baby apple</td>\n",
       "      <td>girl/N/StanfDepSents.7/7</td>\n",
       "    </tr>\n",
       "    <tr>\n",
       "      <th>4</th>\n",
       "      <td>The boy asked the girl about eating apples</td>\n",
       "      <td>girl/N/StanfDepSents.7/25</td>\n",
       "    </tr>\n",
       "    <tr>\n",
       "      <th>5</th>\n",
       "      <td>are eaten by the girl</td>\n",
       "      <td>girl/N/StanfDepSents.2/29</td>\n",
       "    </tr>\n",
       "    <tr>\n",
       "      <th>6</th>\n",
       "      <td>The older girl looks at a boy</td>\n",
       "      <td>girl/N/StanfDepSents.9/14</td>\n",
       "    </tr>\n",
       "    <tr>\n",
       "      <th>7</th>\n",
       "      <td>The boy gives the girl a tasty healthy apple</td>\n",
       "      <td>girl/N/StanfDepSents.6/6</td>\n",
       "    </tr>\n",
       "    <tr>\n",
       "      <th>8</th>\n",
       "      <td>The girl does n't eat</td>\n",
       "      <td>girl/N/StanfDepSents.6/21</td>\n",
       "    </tr>\n",
       "    <tr>\n",
       "      <th>9</th>\n",
       "      <td>The girl sits down</td>\n",
       "      <td>girl/N/StanfDepSents.10/13</td>\n",
       "    </tr>\n",
       "    <tr>\n",
       "      <th>10</th>\n",
       "      <td>The girl eats about ten apples</td>\n",
       "      <td>girl/N/StanfDepSents.10/19</td>\n",
       "    </tr>\n",
       "    <tr>\n",
       "      <th>11</th>\n",
       "      <td>The girl looks at the boy</td>\n",
       "      <td>girl/N/StanfDepSents.11/3</td>\n",
       "    </tr>\n",
       "    <tr>\n",
       "      <th>12</th>\n",
       "      <td>the apple which the girl gave him</td>\n",
       "      <td>girl/N/StanfDepSents.11/19</td>\n",
       "    </tr>\n",
       "    <tr>\n",
       "      <th>13</th>\n",
       "      <td>This year , the girl looked at a boy</td>\n",
       "      <td>girl/N/StanfDepSents.11/28</td>\n",
       "    </tr>\n",
       "    <tr>\n",
       "      <th>14</th>\n",
       "      <td>What the girl eats was given by</td>\n",
       "      <td>girl/N/StanfDepSents.5/19</td>\n",
       "    </tr>\n",
       "    <tr>\n",
       "      <th>15</th>\n",
       "      <td>The girl looks healthy</td>\n",
       "      <td>girl/N/StanfDepSents.1/3</td>\n",
       "    </tr>\n",
       "    <tr>\n",
       "      <th>16</th>\n",
       "      <td>boy looks at the girl as she eats</td>\n",
       "      <td>girl/N/StanfDepSents.1/13</td>\n",
       "    </tr>\n",
       "    <tr>\n",
       "      <th>17</th>\n",
       "      <td>The girl eats less healthy food</td>\n",
       "      <td>girl/N/StanfDepSents.1/20</td>\n",
       "    </tr>\n",
       "    <tr>\n",
       "      <th>18</th>\n",
       "      <td>The girl sat on the apple</td>\n",
       "      <td>girl/N/StanfDepSents.8/3</td>\n",
       "    </tr>\n",
       "    <tr>\n",
       "      <th>19</th>\n",
       "      <td>boy looked at the girl 's apple</td>\n",
       "      <td>girl/N/StanfDepSents.8/15</td>\n",
       "    </tr>\n",
       "    <tr>\n",
       "      <th>20</th>\n",
       "      <td>the boys and the girls eat apples</td>\n",
       "      <td>girl/N/StanfDepSents.8/25</td>\n",
       "    </tr>\n",
       "  </tbody>\n",
       "</table>\n",
       "</div>"
      ],
      "text/plain": [
       "                                            text                    token_id\n",
       "0    boy says that the girl should eat the apple    girl/N/StanfDepSents.4/7\n",
       "1                   The girl eats the apple that   girl/N/StanfDepSents.4/15\n",
       "2         The boy and the girl eat a healthy and   girl/N/StanfDepSents.3/21\n",
       "3            old boy gives the girl a baby apple    girl/N/StanfDepSents.7/7\n",
       "4     The boy asked the girl about eating apples   girl/N/StanfDepSents.7/25\n",
       "5                         are eaten by the girl    girl/N/StanfDepSents.2/29\n",
       "6                  The older girl looks at a boy   girl/N/StanfDepSents.9/14\n",
       "7   The boy gives the girl a tasty healthy apple    girl/N/StanfDepSents.6/6\n",
       "8                          The girl does n't eat   girl/N/StanfDepSents.6/21\n",
       "9                             The girl sits down  girl/N/StanfDepSents.10/13\n",
       "10                The girl eats about ten apples  girl/N/StanfDepSents.10/19\n",
       "11                     The girl looks at the boy   girl/N/StanfDepSents.11/3\n",
       "12             the apple which the girl gave him  girl/N/StanfDepSents.11/19\n",
       "13          This year , the girl looked at a boy  girl/N/StanfDepSents.11/28\n",
       "14               What the girl eats was given by   girl/N/StanfDepSents.5/19\n",
       "15                        The girl looks healthy    girl/N/StanfDepSents.1/3\n",
       "16             boy looks at the girl as she eats   girl/N/StanfDepSents.1/13\n",
       "17               The girl eats less healthy food   girl/N/StanfDepSents.1/20\n",
       "18                     The girl sat on the apple    girl/N/StanfDepSents.8/3\n",
       "19               boy looked at the girl 's apple   girl/N/StanfDepSents.8/15\n",
       "20             the boys and the girls eat apples   girl/N/StanfDepSents.8/25"
      ]
     },
     "execution_count": 81,
     "metadata": {},
     "output_type": "execute_result"
    }
   ],
   "source": [
    "#If you have several queries, you just need to replace tokhan.type2toks[\"girl/N\"].tokens with a flattened version\n",
    "# [tok for typ in tokhan.type2toks.values() for tok in ctyp.tokens]\n",
    "pd.DataFrame([{\"token_id\" : str(token), \"text\" : tokenConcordance(token)} for token in tokhan.type2toks[\"girl/N\"].tokens])"
   ]
  },
  {
   "cell_type": "code",
   "execution_count": 37,
   "metadata": {},
   "outputs": [],
   "source": [
    "nouns = vocab.subvocab([x for x in vocab.keys() if x.endswith(\"N\")])\n",
    "query2 = vocab.subvocab([\"girl/N\", \"boy/N\"])"
   ]
  },
  {
   "cell_type": "code",
   "execution_count": 38,
   "metadata": {
    "scrolled": true
   },
   "outputs": [
    {
     "name": "stdout",
     "output_type": "stream",
     "text": [
      "WARNING: Not provide the temporary path!\n",
      "WARNING: Use the default tmp directory: '~/tmp'!\n",
      "Scanning tokens of queries in corpus...\n"
     ]
    },
    {
     "data": {
      "text/plain": [
       "[46, 7]                    year/N  apple/N  girl/N  food/N  house/N  boy/N  baby/N\n",
       "girl/N/StanfDepSents.6/6   NaN     1        NaN     NaN     NaN      -1     NaN\n",
       "girl/N/StanfDepSents.6/21  NaN     NaN      NaN     NaN     NaN      NaN    NaN\n",
       "girl/N/StanfDepSents.5/19  NaN     NaN      NaN     NaN     NaN      NaN    NaN\n",
       "girl/N/StanfDepSents.2/29  NaN     NaN      NaN     NaN     NaN      NaN    NaN\n",
       "girl/N/StanfDepSents.3/21  NaN     NaN      NaN     NaN     NaN      -1     NaN\n",
       "girl/N/StanfDepSents.9/14  NaN     NaN      NaN     NaN     NaN      1      NaN\n",
       "girl/N/StanfDepSents.4/7   NaN     1        NaN     NaN     NaN      -1     NaN\n",
       "...                        ...     ...      ...     ...     ...      ...    ..."
      ]
     },
     "execution_count": 38,
     "metadata": {},
     "output_type": "execute_result"
    }
   ],
   "source": [
    "tokhan2 = TokenHandler(query2, settings=settings, col_vocab = nouns) # multiple types as targets\n",
    "tokens2 = tokhan2.retrieve_tokens() # Subset of context words\n",
    "tokens2"
   ]
  },
  {
   "cell_type": "code",
   "execution_count": 100,
   "metadata": {
    "scrolled": true
   },
   "outputs": [
    {
     "data": {
      "text/html": [
       "<div>\n",
       "<style scoped>\n",
       "    .dataframe tbody tr th:only-of-type {\n",
       "        vertical-align: middle;\n",
       "    }\n",
       "\n",
       "    .dataframe tbody tr th {\n",
       "        vertical-align: top;\n",
       "    }\n",
       "\n",
       "    .dataframe thead th {\n",
       "        text-align: right;\n",
       "    }\n",
       "</style>\n",
       "<table border=\"1\" class=\"dataframe\">\n",
       "  <thead>\n",
       "    <tr style=\"text-align: right;\">\n",
       "      <th></th>\n",
       "      <th>text</th>\n",
       "      <th>token_id</th>\n",
       "    </tr>\n",
       "  </thead>\n",
       "  <tbody>\n",
       "    <tr>\n",
       "      <th>0</th>\n",
       "      <td>boy girl apple</td>\n",
       "      <td>girl/N/StanfDepSents.6/6</td>\n",
       "    </tr>\n",
       "    <tr>\n",
       "      <th>1</th>\n",
       "      <td>girl</td>\n",
       "      <td>girl/N/StanfDepSents.6/21</td>\n",
       "    </tr>\n",
       "    <tr>\n",
       "      <th>2</th>\n",
       "      <td>girl</td>\n",
       "      <td>girl/N/StanfDepSents.5/19</td>\n",
       "    </tr>\n",
       "    <tr>\n",
       "      <th>3</th>\n",
       "      <td>girl</td>\n",
       "      <td>girl/N/StanfDepSents.2/29</td>\n",
       "    </tr>\n",
       "    <tr>\n",
       "      <th>4</th>\n",
       "      <td>boy girl</td>\n",
       "      <td>girl/N/StanfDepSents.3/21</td>\n",
       "    </tr>\n",
       "    <tr>\n",
       "      <th>5</th>\n",
       "      <td>girl boy</td>\n",
       "      <td>girl/N/StanfDepSents.9/14</td>\n",
       "    </tr>\n",
       "    <tr>\n",
       "      <th>6</th>\n",
       "      <td>boy girl apple</td>\n",
       "      <td>girl/N/StanfDepSents.4/7</td>\n",
       "    </tr>\n",
       "    <tr>\n",
       "      <th>7</th>\n",
       "      <td>girl apple</td>\n",
       "      <td>girl/N/StanfDepSents.4/15</td>\n",
       "    </tr>\n",
       "    <tr>\n",
       "      <th>8</th>\n",
       "      <td>girl boy</td>\n",
       "      <td>girl/N/StanfDepSents.11/3</td>\n",
       "    </tr>\n",
       "    <tr>\n",
       "      <th>9</th>\n",
       "      <td>apple girl</td>\n",
       "      <td>girl/N/StanfDepSents.11/19</td>\n",
       "    </tr>\n",
       "    <tr>\n",
       "      <th>10</th>\n",
       "      <td>year girl boy</td>\n",
       "      <td>girl/N/StanfDepSents.11/28</td>\n",
       "    </tr>\n",
       "    <tr>\n",
       "      <th>11</th>\n",
       "      <td>girl</td>\n",
       "      <td>girl/N/StanfDepSents.1/3</td>\n",
       "    </tr>\n",
       "    <tr>\n",
       "      <th>12</th>\n",
       "      <td>boy girl</td>\n",
       "      <td>girl/N/StanfDepSents.1/13</td>\n",
       "    </tr>\n",
       "    <tr>\n",
       "      <th>13</th>\n",
       "      <td>girl food</td>\n",
       "      <td>girl/N/StanfDepSents.1/20</td>\n",
       "    </tr>\n",
       "    <tr>\n",
       "      <th>14</th>\n",
       "      <td>girl</td>\n",
       "      <td>girl/N/StanfDepSents.10/13</td>\n",
       "    </tr>\n",
       "    <tr>\n",
       "      <th>15</th>\n",
       "      <td>girl apples</td>\n",
       "      <td>girl/N/StanfDepSents.10/19</td>\n",
       "    </tr>\n",
       "    <tr>\n",
       "      <th>16</th>\n",
       "      <td>girl apple</td>\n",
       "      <td>girl/N/StanfDepSents.8/3</td>\n",
       "    </tr>\n",
       "    <tr>\n",
       "      <th>17</th>\n",
       "      <td>boy girl apple</td>\n",
       "      <td>girl/N/StanfDepSents.8/15</td>\n",
       "    </tr>\n",
       "    <tr>\n",
       "      <th>18</th>\n",
       "      <td>boys girls apples</td>\n",
       "      <td>girl/N/StanfDepSents.8/25</td>\n",
       "    </tr>\n",
       "    <tr>\n",
       "      <th>19</th>\n",
       "      <td>boy girl baby apple</td>\n",
       "      <td>girl/N/StanfDepSents.7/7</td>\n",
       "    </tr>\n",
       "    <tr>\n",
       "      <th>20</th>\n",
       "      <td>boy girl apples</td>\n",
       "      <td>girl/N/StanfDepSents.7/25</td>\n",
       "    </tr>\n",
       "    <tr>\n",
       "      <th>21</th>\n",
       "      <td>boy girl</td>\n",
       "      <td>boy/N/StanfDepSents.6/3</td>\n",
       "    </tr>\n",
       "    <tr>\n",
       "      <th>22</th>\n",
       "      <td>boy</td>\n",
       "      <td>boy/N/StanfDepSents.6/14</td>\n",
       "    </tr>\n",
       "    <tr>\n",
       "      <th>23</th>\n",
       "      <td>boy</td>\n",
       "      <td>boy/N/StanfDepSents.5/3</td>\n",
       "    </tr>\n",
       "    <tr>\n",
       "      <th>24</th>\n",
       "      <td>boy</td>\n",
       "      <td>boy/N/StanfDepSents.5/11</td>\n",
       "    </tr>\n",
       "    <tr>\n",
       "      <th>25</th>\n",
       "      <td>boy</td>\n",
       "      <td>boy/N/StanfDepSents.5/25</td>\n",
       "    </tr>\n",
       "    <tr>\n",
       "      <th>26</th>\n",
       "      <td>boy</td>\n",
       "      <td>boy/N/StanfDepSents.2/8</td>\n",
       "    </tr>\n",
       "    <tr>\n",
       "      <th>27</th>\n",
       "      <td>boy food</td>\n",
       "      <td>boy/N/StanfDepSents.2/12</td>\n",
       "    </tr>\n",
       "    <tr>\n",
       "      <th>28</th>\n",
       "      <td>boy apple</td>\n",
       "      <td>boy/N/StanfDepSents.3/3</td>\n",
       "    </tr>\n",
       "    <tr>\n",
       "      <th>29</th>\n",
       "      <td>boy girl</td>\n",
       "      <td>boy/N/StanfDepSents.3/18</td>\n",
       "    </tr>\n",
       "    <tr>\n",
       "      <th>30</th>\n",
       "      <td>boys apple</td>\n",
       "      <td>boy/N/StanfDepSents.9/5</td>\n",
       "    </tr>\n",
       "    <tr>\n",
       "      <th>31</th>\n",
       "      <td>girl boy house</td>\n",
       "      <td>boy/N/StanfDepSents.9/18</td>\n",
       "    </tr>\n",
       "    <tr>\n",
       "      <th>32</th>\n",
       "      <td>Apples boys</td>\n",
       "      <td>boy/N/StanfDepSents.9/28</td>\n",
       "    </tr>\n",
       "    <tr>\n",
       "      <th>33</th>\n",
       "      <td>boy</td>\n",
       "      <td>boy/N/StanfDepSents.12/12</td>\n",
       "    </tr>\n",
       "    <tr>\n",
       "      <th>34</th>\n",
       "      <td>boy girl</td>\n",
       "      <td>boy/N/StanfDepSents.4/3</td>\n",
       "    </tr>\n",
       "    <tr>\n",
       "      <th>35</th>\n",
       "      <td>apple baby boy</td>\n",
       "      <td>boy/N/StanfDepSents.4/22</td>\n",
       "    </tr>\n",
       "    <tr>\n",
       "      <th>36</th>\n",
       "      <td>girl boy</td>\n",
       "      <td>boy/N/StanfDepSents.11/7</td>\n",
       "    </tr>\n",
       "    <tr>\n",
       "      <th>37</th>\n",
       "      <td>boy apple</td>\n",
       "      <td>boy/N/StanfDepSents.11/13</td>\n",
       "    </tr>\n",
       "    <tr>\n",
       "      <th>38</th>\n",
       "      <td>girl boy</td>\n",
       "      <td>boy/N/StanfDepSents.11/32</td>\n",
       "    </tr>\n",
       "    <tr>\n",
       "      <th>39</th>\n",
       "      <td>boy girl</td>\n",
       "      <td>boy/N/StanfDepSents.1/9</td>\n",
       "    </tr>\n",
       "    <tr>\n",
       "      <th>40</th>\n",
       "      <td>boy</td>\n",
       "      <td>boy/N/StanfDepSents.10/3</td>\n",
       "    </tr>\n",
       "    <tr>\n",
       "      <th>41</th>\n",
       "      <td>boy girl</td>\n",
       "      <td>boy/N/StanfDepSents.8/11</td>\n",
       "    </tr>\n",
       "    <tr>\n",
       "      <th>42</th>\n",
       "      <td>boys girls</td>\n",
       "      <td>boy/N/StanfDepSents.8/22</td>\n",
       "    </tr>\n",
       "    <tr>\n",
       "      <th>43</th>\n",
       "      <td>boy girl</td>\n",
       "      <td>boy/N/StanfDepSents.7/4</td>\n",
       "    </tr>\n",
       "    <tr>\n",
       "      <th>44</th>\n",
       "      <td>boy years</td>\n",
       "      <td>boy/N/StanfDepSents.7/14</td>\n",
       "    </tr>\n",
       "    <tr>\n",
       "      <th>45</th>\n",
       "      <td>boy girl</td>\n",
       "      <td>boy/N/StanfDepSents.7/22</td>\n",
       "    </tr>\n",
       "  </tbody>\n",
       "</table>\n",
       "</div>"
      ],
      "text/plain": [
       "                   text                    token_id\n",
       "0        boy girl apple    girl/N/StanfDepSents.6/6\n",
       "1                 girl    girl/N/StanfDepSents.6/21\n",
       "2                 girl    girl/N/StanfDepSents.5/19\n",
       "3                 girl    girl/N/StanfDepSents.2/29\n",
       "4             boy girl    girl/N/StanfDepSents.3/21\n",
       "5              girl boy   girl/N/StanfDepSents.9/14\n",
       "6        boy girl apple    girl/N/StanfDepSents.4/7\n",
       "7            girl apple   girl/N/StanfDepSents.4/15\n",
       "8              girl boy   girl/N/StanfDepSents.11/3\n",
       "9           apple girl   girl/N/StanfDepSents.11/19\n",
       "10        year girl boy  girl/N/StanfDepSents.11/28\n",
       "11                girl     girl/N/StanfDepSents.1/3\n",
       "12            boy girl    girl/N/StanfDepSents.1/13\n",
       "13            girl food   girl/N/StanfDepSents.1/20\n",
       "14                girl   girl/N/StanfDepSents.10/13\n",
       "15          girl apples  girl/N/StanfDepSents.10/19\n",
       "16           girl apple    girl/N/StanfDepSents.8/3\n",
       "17       boy girl apple   girl/N/StanfDepSents.8/15\n",
       "18    boys girls apples   girl/N/StanfDepSents.8/25\n",
       "19  boy girl baby apple    girl/N/StanfDepSents.7/7\n",
       "20      boy girl apples   girl/N/StanfDepSents.7/25\n",
       "21             boy girl     boy/N/StanfDepSents.6/3\n",
       "22                 boy     boy/N/StanfDepSents.6/14\n",
       "23                 boy      boy/N/StanfDepSents.5/3\n",
       "24                 boy     boy/N/StanfDepSents.5/11\n",
       "25                 boy     boy/N/StanfDepSents.5/25\n",
       "26                 boy      boy/N/StanfDepSents.2/8\n",
       "27             boy food    boy/N/StanfDepSents.2/12\n",
       "28            boy apple     boy/N/StanfDepSents.3/3\n",
       "29             boy girl    boy/N/StanfDepSents.3/18\n",
       "30           boys apple     boy/N/StanfDepSents.9/5\n",
       "31       girl boy house    boy/N/StanfDepSents.9/18\n",
       "32         Apples boys     boy/N/StanfDepSents.9/28\n",
       "33                 boy    boy/N/StanfDepSents.12/12\n",
       "34             boy girl     boy/N/StanfDepSents.4/3\n",
       "35      apple baby boy     boy/N/StanfDepSents.4/22\n",
       "36            girl boy     boy/N/StanfDepSents.11/7\n",
       "37            boy apple   boy/N/StanfDepSents.11/13\n",
       "38            girl boy    boy/N/StanfDepSents.11/32\n",
       "39             boy girl     boy/N/StanfDepSents.1/9\n",
       "40                 boy     boy/N/StanfDepSents.10/3\n",
       "41             boy girl    boy/N/StanfDepSents.8/11\n",
       "42           boys girls    boy/N/StanfDepSents.8/22\n",
       "43             boy girl     boy/N/StanfDepSents.7/4\n",
       "44            boy years    boy/N/StanfDepSents.7/14\n",
       "45             boy girl    boy/N/StanfDepSents.7/22"
      ]
     },
     "execution_count": 100,
     "metadata": {},
     "output_type": "execute_result"
    }
   ],
   "source": [
    "# In this case, the concordance looks weird because we have only used nouns as collocates\n",
    "# In order to capture the full concordance, we should run TokenHandler with the full vocabulary and THEN filter the columns\n",
    "allTokens = [tok for typ in tokhan2.type2toks.values() for tok in typ.tokens]\n",
    "pd.DataFrame([{\"token_id\" : str(token), \"text\" : tokenConcordance(token)} for token in allTokens])"
   ]
  },
  {
   "cell_type": "markdown",
   "metadata": {},
   "source": [
    "Dependency models can use different types of patterns. Here we will see three:\n",
    "\n",
    "- Lemmarel, where the dependency is selected by a specific set of relationships and the context feature is a lemma.\n",
    "- Lemmapath, where the dependency is selected based on the number of steps on the dependency path (like above) and the context feature is a lemma.\n",
    "- Deppath, where the dependency is selected based on the number of steps on the dependency path but the full dependency relation is the context feature. (Deprel is of course also possible but I will not show it.)\n",
    "\n",
    "#### Lemmarel\n",
    "\n",
    "In the first dependency-based model, we will look at templates where a noun is the target and the features could be the verb of which it is subject or direct object, its modifier or an item from which it depends via a preposition."
   ]
  },
  {
   "cell_type": "code",
   "execution_count": 39,
   "metadata": {},
   "outputs": [
    {
     "data": {
      "image/png": "[encoded data removed]",
      "text/plain": [
       "<Figure size 1440x2304 with 3 Axes>"
      ]
     },
     "metadata": {},
     "output_type": "display_data"
    }
   ],
   "source": [
    "rel_graphml_fname = f\"{mydir}/templates/LEMMAREL-Stanford.nouns.template.graphml\"\n",
    "rel_patterns = PatternGraph.read_graphml(rel_graphml_fname)\n",
    "\n",
    "rel_macro_fname = f\"{mydir}/templates/LEMMAREL1-Stanford.nouns.target-feature-macro.xml\"\n",
    "rel_macros = MacroGraph.read_xml(rel_macro_fname, rel_patterns)\n",
    "plot_patterns(rel_macros)"
   ]
  },
  {
   "cell_type": "markdown",
   "metadata": {},
   "source": [
    "Like in all other dependency-based models, we first create an object of the `DepRelHandler` class (with either mode 'type' or, in this case, 'token') and then we give the macros to the `.read_templates()` method."
   ]
  },
  {
   "cell_type": "code",
   "execution_count": 40,
   "metadata": {
    "scrolled": true
   },
   "outputs": [
    {
     "name": "stdout",
     "output_type": "stream",
     "text": [
      "WARNING: Not provide the temporary path!\n",
      "WARNING: Use the default tmp directory: '~/tmp'!\n",
      "Building dependency features...\n"
     ]
    },
    {
     "data": {
      "application/vnd.jupyter.widget-view+json": {
       "model_id": "0b179a75a142445d8f8b9dbc6af139d3",
       "version_major": 2,
       "version_minor": 0
      },
      "text/plain": [
       "HBox(children=(IntProgress(value=0, max=12), HTML(value='')))"
      ]
     },
     "metadata": {},
     "output_type": "display_data"
    },
    {
     "name": "stdout",
     "output_type": "stream",
     "text": [
      "\n",
      "Building matrix...\n"
     ]
    },
    {
     "data": {
      "text/plain": [
       "[15, 6]                     ask/V  at/I  eat/V  give/V  look/V  sit/V\n",
       "girl/N/StanfDepSents.1/13   NaN    1     NaN    NaN     NaN     NaN\n",
       "girl/N/StanfDepSents.1/20   NaN    NaN   1      NaN     NaN     NaN\n",
       "girl/N/StanfDepSents.1/3    NaN    NaN   NaN    NaN     1       NaN\n",
       "girl/N/StanfDepSents.10/13  NaN    NaN   NaN    NaN     NaN     1\n",
       "girl/N/StanfDepSents.10/19  NaN    NaN   1      NaN     NaN     NaN\n",
       "girl/N/StanfDepSents.11/19  NaN    NaN   NaN    1       NaN     NaN\n",
       "girl/N/StanfDepSents.11/28  NaN    NaN   NaN    NaN     1       NaN\n",
       "...                         ...    ...   ...    ...     ...     ..."
      ]
     },
     "execution_count": 40,
     "metadata": {},
     "output_type": "execute_result"
    }
   ],
   "source": [
    "rel_dephan = DepRelHandler(settings, workers=4, targets=query, mode='token')\n",
    "rel_dephan.read_templates(macros=rel_macros)\n",
    "rel_tokens = rel_dephan.build_dependency()\n",
    "rel_tokens"
   ]
  },
  {
   "cell_type": "markdown",
   "metadata": {},
   "source": [
    "#### Lemmapath\n",
    "\n",
    "This is the token-level counterpart of the type-level model shown above: the rows are individual instances instead of type-level vectors."
   ]
  },
  {
   "cell_type": "code",
   "execution_count": 41,
   "metadata": {
    "scrolled": true
   },
   "outputs": [
    {
     "name": "stdout",
     "output_type": "stream",
     "text": [
      "WARNING: Not provide the temporary path!\n",
      "WARNING: Use the default tmp directory: '~/tmp'!\n",
      "Building dependency features...\n"
     ]
    },
    {
     "data": {
      "application/vnd.jupyter.widget-view+json": {
       "model_id": "ee42df516a304d53bc52dd7bb0924adf",
       "version_major": 2,
       "version_minor": 0
      },
      "text/plain": [
       "HBox(children=(IntProgress(value=0, max=12), HTML(value='')))"
      ]
     },
     "metadata": {},
     "output_type": "display_data"
    },
    {
     "name": "stdout",
     "output_type": "stream",
     "text": [
      "\n",
      "Building matrix...\n"
     ]
    },
    {
     "data": {
      "text/plain": [
       "[21, 12]                    's/P  apple/N  ask/V  at/I  boy/N  by/I  eat/V  ...\n",
       "girl/N/StanfDepSents.1/13   NaN   NaN      NaN    1     NaN    NaN   NaN    ...\n",
       "girl/N/StanfDepSents.1/20   NaN   NaN      NaN    NaN   NaN    NaN   1      ...\n",
       "girl/N/StanfDepSents.1/3    NaN   NaN      NaN    NaN   NaN    NaN   NaN    ...\n",
       "girl/N/StanfDepSents.10/13  NaN   NaN      NaN    NaN   NaN    NaN   NaN    ...\n",
       "girl/N/StanfDepSents.10/19  NaN   NaN      NaN    NaN   NaN    NaN   1      ...\n",
       "girl/N/StanfDepSents.11/19  NaN   NaN      NaN    NaN   NaN    NaN   NaN    ...\n",
       "girl/N/StanfDepSents.11/28  NaN   NaN      NaN    NaN   NaN    NaN   NaN    ...\n",
       "...                         ...   ...      ...    ...   ...    ...   ...    ..."
      ]
     },
     "execution_count": 41,
     "metadata": {},
     "output_type": "execute_result"
    }
   ],
   "source": [
    "path_dephan = DepRelHandler(settings, workers=4, targets=query, mode='token')\n",
    "path_dephan.read_templates(macros=path_macros)\n",
    "path_tokens = path_dephan.build_dependency()\n",
    "path_tokens"
   ]
  },
  {
   "cell_type": "markdown",
   "metadata": {},
   "source": [
    "#### Deppath\n",
    "\n",
    "This is the token-level counterpart of the second type-level model shown above; that (transposed) type-level model would serve as the second-order matrix for this token-level matrix."
   ]
  },
  {
   "cell_type": "code",
   "execution_count": 42,
   "metadata": {
    "scrolled": true
   },
   "outputs": [
    {
     "name": "stdout",
     "output_type": "stream",
     "text": [
      "WARNING: Not provide the temporary path!\n",
      "WARNING: Use the default tmp directory: '~/tmp'!\n",
      "Building dependency features...\n"
     ]
    },
    {
     "data": {
      "application/vnd.jupyter.widget-view+json": {
       "model_id": "bdeb25390ba44172a0a5afc4bd64633b",
       "version_major": 2,
       "version_minor": 0
      },
      "text/plain": [
       "HBox(children=(IntProgress(value=0, max=12), HTML(value='')))"
      ]
     },
     "metadata": {},
     "output_type": "display_data"
    },
    {
     "name": "stdout",
     "output_type": "stream",
     "text": [
      "\n",
      "Building matrix...\n"
     ]
    },
    {
     "data": {
      "text/plain": [
       "[21, 12]                    #T#->*:'s/P  #T#->*:old/J  #T#->*:the/D  apple/N->*:#T#  ask/V->*:#T#  at/I->*:#T#  boy/N->*:#T#  ...\n",
       "girl/N/StanfDepSents.1/13   NaN          NaN           1             NaN             NaN           1            NaN           ...\n",
       "girl/N/StanfDepSents.1/20   NaN          NaN           1             NaN             NaN           NaN          NaN           ...\n",
       "girl/N/StanfDepSents.1/3    NaN          NaN           1             NaN             NaN           NaN          NaN           ...\n",
       "girl/N/StanfDepSents.10/13  NaN          NaN           1             NaN             NaN           NaN          NaN           ...\n",
       "girl/N/StanfDepSents.10/19  NaN          NaN           1             NaN             NaN           NaN          NaN           ...\n",
       "girl/N/StanfDepSents.11/19  NaN          NaN           1             NaN             NaN           NaN          NaN           ...\n",
       "girl/N/StanfDepSents.11/28  NaN          NaN           1             NaN             NaN           NaN          NaN           ...\n",
       "...                         ...          ...           ...           ...             ...           ...          ...           ..."
      ]
     },
     "execution_count": 42,
     "metadata": {},
     "output_type": "execute_result"
    }
   ],
   "source": [
    "pathfull_dephan = DepRelHandler(settings, workers=4, targets=query, mode='token')\n",
    "pathfull_dephan.read_templates(macros=pathfull_macros)\n",
    "pathfull_tokens = pathfull_dephan.build_dependency()\n",
    "pathfull_tokens"
   ]
  },
  {
   "cell_type": "markdown",
   "metadata": {},
   "source": [
    "### 4.2 Weight or booleanize"
   ]
  },
  {
   "cell_type": "markdown",
   "metadata": {},
   "source": [
    "The result is also a `TypeTokenMatrix` object, with `.submatrix()` and `.drop()` methods, but with tokens instead of types on its rows and with *positions* as its values. It can be directly fed into a `compute_token_weights()` function in order to replace the positions with weights, but if we do not want to implement any weighting we should do something else: transform it into a boolean matrix.\n",
    "\n",
    "Here, `tokens` could be replaced by `rel_tokens`, `path_tokens` or `pathfull_tokens`."
   ]
  },
  {
   "cell_type": "code",
   "execution_count": 43,
   "metadata": {},
   "outputs": [
    {
     "data": {
      "text/plain": [
       "[21, 39]                   that/W  which/W  about/R  be/V  ,/,  this/D  apple/N  ...\n",
       "girl/N/StanfDepSents.4/7   NaN     NaN      NaN      NaN   NaN  NaN     1        ...\n",
       "girl/N/StanfDepSents.4/15  1       NaN      NaN      NaN   NaN  NaN     1        ...\n",
       "girl/N/StanfDepSents.3/21  NaN     NaN      NaN      NaN   NaN  NaN     NaN      ...\n",
       "girl/N/StanfDepSents.7/7   NaN     NaN      NaN      NaN   NaN  NaN     1        ...\n",
       "girl/N/StanfDepSents.7/25  NaN     NaN      NaN      NaN   NaN  NaN     1        ...\n",
       "girl/N/StanfDepSents.2/29  NaN     NaN      NaN      1     NaN  NaN     NaN      ...\n",
       "girl/N/StanfDepSents.9/14  NaN     NaN      NaN      NaN   NaN  NaN     NaN      ...\n",
       "...                        ...     ...      ...      ...   ...  ...     ...      ..."
      ]
     },
     "execution_count": 43,
     "metadata": {},
     "output_type": "execute_result"
    }
   ],
   "source": [
    "def booleanize(ttmx, include_negative = True):\n",
    "    # For PPMI matrices, include_negative should be False\n",
    "    boolean_array = ttmx.matrix.toarray() != 0 if include_negative else ttmx.matrix.toarray() > 0\n",
    "    boolean_sparse = sparse.csr_matrix(boolean_array.astype(np.int))\n",
    "    return TypeTokenMatrix(boolean_sparse, ttmx.row_items, ttmx.col_items).drop(axis = 1, n_nonzero = 0)\n",
    "tokens = booleanize(tokens)\n",
    "tokens"
   ]
  },
  {
   "cell_type": "markdown",
   "metadata": {},
   "source": [
    "Then, if we want to weight the values with the PPMI between the context words and the target, we can use `compute_token_weights()` and the PPMI matrix; if we only want to *select* the context words with a positive PMI, we can use the boolean version of the PPMI matrix.\n",
    "\n",
    "This PPMI matrix has to have the same column items as the token-level matrix, and at least the types of the targets in its row names."
   ]
  },
  {
   "cell_type": "code",
   "execution_count": 44,
   "metadata": {},
   "outputs": [
    {
     "data": {
      "text/plain": [
       "[1, 39]  that/W     which/W    about/R    be/V         ,/,         this/D     apple/N     ...\n",
       "girl/N   0.3507146  0.3507146  0.8207182  -0.97104126  -0.5142828  1.0438617  0.18944645  ..."
      ]
     },
     "execution_count": 44,
     "metadata": {},
     "output_type": "execute_result"
    }
   ],
   "source": [
    "sub_pmi = pmi.submatrix(row = query.get_item_list(), col = tokens.col_items).drop(axis = 1, n_nonzero = 0) #Of course, it's best to check for the intersection...\n",
    "sub_pmi"
   ]
  },
  {
   "cell_type": "markdown",
   "metadata": {},
   "source": [
    "The bag-of-words pmi matrix works for all token-level matrices except the one with full dependencies as features. In order to weight that one, we would need to calculate PMI values between the lemmas and the paths."
   ]
  },
  {
   "cell_type": "code",
   "execution_count": 45,
   "metadata": {},
   "outputs": [
    {
     "data": {
      "application/vnd.jupyter.widget-view+json": {
       "model_id": "156ca367cdc742059e8211d65c6b95ac",
       "version_major": 2,
       "version_minor": 0
      },
      "text/plain": [
       "HBox(children=(IntProgress(value=0, max=214), HTML(value='')))"
      ]
     },
     "metadata": {},
     "output_type": "display_data"
    },
    {
     "name": "stdout",
     "output_type": "stream",
     "text": [
      "\n",
      "\n",
      "************************************\n",
      "function    = compute_association\n",
      "  time      = 0.01623 sec\n",
      "************************************\n",
      "\n"
     ]
    },
    {
     "data": {
      "text/plain": [
       "[1, 12]  #T#->*:'s/P  #T#->*:old/J  #T#->*:the/D  apple/N->*:#T#  ask/V->*:#T#  at/I->*:#T#  boy/N->*:#T#  ...\n",
       "girl/N   2.325058     0.93876356    1.3992884     -0.81043625     1.2264457     0.5332985    -0.5081554    ..."
      ]
     },
     "execution_count": 45,
     "metadata": {},
     "output_type": "execute_result"
    }
   ],
   "source": [
    "pathfull_nfreq = Vocab(pathfullMTX.sum(axis=1))\n",
    "pathfull_cfreq = Vocab(pathfullMTX.sum(axis=0))\n",
    "pathfull_pmi = compute_association(pathfullMTX, nfreq=pathfull_nfreq, cfreq=pathfull_cfreq, meas = 'pmi')\n",
    "pathfull_pmi.submatrix(row = query.get_item_list(), col = pathfull_tokens.col_items).drop(axis = 1, n_nonzero = 0)"
   ]
  },
  {
   "cell_type": "code",
   "execution_count": 46,
   "metadata": {},
   "outputs": [
    {
     "data": {
      "text/plain": [
       "[21, 39]                   that/W  which/W  about/R  be/V     ,/,  this/D  apple/N  ...\n",
       "girl/N/StanfDepSents.4/7   NaN     NaN      NaN      NaN      NaN  NaN     0.1894   ...\n",
       "girl/N/StanfDepSents.4/15  0.3507  NaN      NaN      NaN      NaN  NaN     0.1894   ...\n",
       "girl/N/StanfDepSents.3/21  NaN     NaN      NaN      NaN      NaN  NaN     NaN      ...\n",
       "girl/N/StanfDepSents.7/7   NaN     NaN      NaN      NaN      NaN  NaN     0.1894   ...\n",
       "girl/N/StanfDepSents.7/25  NaN     NaN      NaN      NaN      NaN  NaN     0.1894   ...\n",
       "girl/N/StanfDepSents.2/29  NaN     NaN      NaN      -0.9710  NaN  NaN     NaN      ...\n",
       "girl/N/StanfDepSents.9/14  NaN     NaN      NaN      NaN      NaN  NaN     NaN      ...\n",
       "...                        ...     ...      ...      ...      ...  ...     ...      ..."
      ]
     },
     "execution_count": 46,
     "metadata": {},
     "output_type": "execute_result"
    }
   ],
   "source": [
    "weighted_tokens = compute_token_weights(tokens.submatrix(col = sub_pmi.col_items), sub_pmi)\n",
    "weighted_tokens"
   ]
  },
  {
   "cell_type": "code",
   "execution_count": 47,
   "metadata": {},
   "outputs": [
    {
     "data": {
      "text/plain": [
       "[21, 39]                   that/W  which/W  about/R  be/V    ,/,  this/D  apple/N  ...\n",
       "girl/N/StanfDepSents.4/7   NaN     NaN      NaN      NaN     NaN  NaN     1.0000   ...\n",
       "girl/N/StanfDepSents.4/15  1.0000  NaN      NaN      NaN     NaN  NaN     1.0000   ...\n",
       "girl/N/StanfDepSents.3/21  NaN     NaN      NaN      NaN     NaN  NaN     NaN      ...\n",
       "girl/N/StanfDepSents.7/7   NaN     NaN      NaN      NaN     NaN  NaN     1.0000   ...\n",
       "girl/N/StanfDepSents.7/25  NaN     NaN      NaN      NaN     NaN  NaN     1.0000   ...\n",
       "girl/N/StanfDepSents.2/29  NaN     NaN      NaN      1.0000  NaN  NaN     NaN      ...\n",
       "girl/N/StanfDepSents.9/14  NaN     NaN      NaN      NaN     NaN  NaN     NaN      ...\n",
       "...                        ...     ...      ...      ...     ...  ...     ...      ..."
      ]
     },
     "execution_count": 47,
     "metadata": {},
     "output_type": "execute_result"
    }
   ],
   "source": [
    "selected_tokens = compute_token_weights(tokens.submatrix(col = sub_pmi.col_items), booleanize(sub_pmi))\n",
    "selected_tokens"
   ]
  },
  {
   "cell_type": "markdown",
   "metadata": {},
   "source": [
    "### 4.3 Second-order dimensions"
   ]
  },
  {
   "cell_type": "markdown",
   "metadata": {},
   "source": [
    "Now `tokens`, `weighted_tokens` and `selected_tokens` are alternatives that can be used to create the final vectors, for which we need one final type-level (PPMI) matrix to multiply them for and the `compute_token_vectors()` function.\n",
    "\n",
    "The first two arguments of this function, `tcWeightMTX` and `soccMTX`, are the token level and second-order type level matrices involved. Next to them there is an argument `operation` to decide how to merge the type level vectors of the context words to form the token-level vector: by default, it's addition, but it could also be multiplication or a weighted mean. In addition, the argument `normalization`, with L1 as default, sets whether and how the vectors should be normalized.\n",
    "\n",
    "The second-order matrix has to have, as rows, the columns of the token-level matrix, while the columns will be the final dimensions. I understand that if we wanted to use SVD, it would be applied to that second-order matrix before the multiplication."
   ]
  },
  {
   "cell_type": "code",
   "execution_count": 48,
   "metadata": {},
   "outputs": [
    {
     "data": {
      "text/plain": [
       "[55, 55]  's/P  ,/,        a/D        about/I  about/R  all/P  an/D  ...\n",
       "'s/P      NaN   NaN        NaN        NaN      NaN      NaN    NaN   ...\n",
       ",/,       NaN   2.0384464  1.2940059  NaN      NaN      NaN    NaN   ...\n",
       "a/D       NaN   1.2940059  NaN        NaN      NaN      NaN    NaN   ...\n",
       "about/I   NaN   NaN        NaN        NaN      NaN      NaN    NaN   ...\n",
       "about/R   NaN   NaN        NaN        NaN      NaN      NaN    NaN   ...\n",
       "all/P     NaN   NaN        NaN        NaN      NaN      NaN    NaN   ...\n",
       "an/D      NaN   NaN        NaN        NaN      NaN      NaN    NaN   ...\n",
       "...       ...   ...        ...        ...      ...      ...    ...   ..."
      ]
     },
     "execution_count": 48,
     "metadata": {},
     "output_type": "execute_result"
    }
   ],
   "source": [
    "ppmi = pmi.multiply(pmi > 0).drop(axis = 1, n_nonzero = 0) # The multiply() method with the boolean matrix lets us set all values below 0 to 0\n",
    "intersection_cw = [x for x in tokens.col_items if x in ppmi.row_items]\n",
    "ppmi"
   ]
  },
  {
   "cell_type": "code",
   "execution_count": 49,
   "metadata": {
    "scrolled": true
   },
   "outputs": [
    {
     "name": "stdout",
     "output_type": "stream",
     "text": [
      "  Operation: addition 'token-feature weight matrix' X 'socc matrix'...\n"
     ]
    },
    {
     "data": {
      "text/plain": [
       "[21, 55]                   's/P    ,/,     a/D     about/I  about/R  all/P   an/D    ...\n",
       "girl/N/StanfDepSents.4/7   0.0130  NaN     0.0055  0.0253   0.0230   0.0146  0.0509  ...\n",
       "girl/N/StanfDepSents.4/15  0.0220  NaN     0.0077  0.0311   0.0389   0.0050  0.0303  ...\n",
       "girl/N/StanfDepSents.3/21  0.0004  0.0311  0.0229  0.0160   0.0112   0.0159  0.0155  ...\n",
       "girl/N/StanfDepSents.7/7   0.0117  0.0136  0.0279  0.0157   0.0117   0.0432  0.0456  ...\n",
       "girl/N/StanfDepSents.7/25  0.0154  NaN     0.0065  0.0808   0.0273   0.0174  0.0320  ...\n",
       "girl/N/StanfDepSents.2/29  0.0006  0.0327  NaN     0.0138   0.0181   0.0412  0.0181  ...\n",
       "girl/N/StanfDepSents.9/14  0.0461  0.0286  0.0191  0.0073   0.0004   0.0508  0.0286  ...\n",
       "...                        ...     ...     ...     ...      ...      ...     ...     ..."
      ]
     },
     "execution_count": 49,
     "metadata": {},
     "output_type": "execute_result"
    }
   ],
   "source": [
    "filtered_tokens = tokens.submatrix(col = intersection_cw).drop(axis = 0, n_nonzero = 0)\n",
    "filtered_soc = ppmi.submatrix(row = intersection_cw).drop(axis = 1, n_nonzero = 0)\n",
    "tokvecs = compute_token_vectors(filtered_tokens, filtered_soc) # This is currently the old version: I think Stefano should commit his fix himself\n",
    "tokvecs"
   ]
  },
  {
   "cell_type": "code",
   "execution_count": 50,
   "metadata": {},
   "outputs": [
    {
     "name": "stdout",
     "output_type": "stream",
     "text": [
      "\n",
      "Saving matrix...\n",
      "Stored in file:\n",
      "  /home/projects/semmetrix/mariana_wolken/depmodel/qlvl/tests/data/output//StanfDepSents.ttmx.ppmi.pac\n"
     ]
    }
   ],
   "source": [
    "tokvecs.save(f\"{output_path}/{corpus_name}.ttmx.ppmi.pac\")"
   ]
  },
  {
   "cell_type": "markdown",
   "metadata": {},
   "source": [
    "### 4.4 Cosine distances"
   ]
  },
  {
   "cell_type": "markdown",
   "metadata": {},
   "source": [
    "The final element, `tokvecs`, is the actual token-level matrix we are interested in. We could use it to average vectors over a set of tokens, for example, but normally we go straight to computing distances, with the `compute_distance()` function. The default measure is cosine, but it could also be euclidean, cityblock, or other options. It could also compute distances between columns rather than, as default, by row."
   ]
  },
  {
   "cell_type": "code",
   "execution_count": 51,
   "metadata": {
    "scrolled": false
   },
   "outputs": [
    {
     "name": "stdout",
     "output_type": "stream",
     "text": [
      "\n",
      "************************************\n",
      "function    = compute_distance\n",
      "  time      = 0.0008376 sec\n",
      "************************************\n",
      "\n",
      "\n",
      "Saving matrix...\n",
      "Stored in file:\n",
      "  /home/projects/semmetrix/mariana_wolken/depmodel/qlvl/tests/data/output//StanfDepSents.ttmx.dist.pac\n"
     ]
    },
    {
     "data": {
      "text/plain": [
       "[21, 21]                   girl/N/StanfDepSents.4/7  girl/N/StanfDepSents.4/15  girl/N/StanfDepSents.3/21  girl/N/StanfDepSents.7/7  girl/N/StanfDepSents.7/25  girl/N/StanfDepSents.2/29  girl/N/StanfDepSents.9/14  ...\n",
       "girl/N/StanfDepSents.4/7   0.0000                    0.3498                     0.4297                     0.4806                    0.3102                     0.4148                     0.5820                     ...\n",
       "girl/N/StanfDepSents.4/15  0.3498                    0.0000                     0.3867                     0.3655                    0.2375                     0.3159                     0.6249                     ...\n",
       "girl/N/StanfDepSents.3/21  0.4297                    0.3867                     0.0000                     0.3425                    0.3082                     0.2551                     0.3583                     ...\n",
       "girl/N/StanfDepSents.7/7   0.4806                    0.3655                     0.3425                     0.0000                    0.3908                     0.3923                     0.3277                     ...\n",
       "girl/N/StanfDepSents.7/25  0.3102                    0.2375                     0.3082                     0.3908                    0.0000                     0.3052                     0.5041                     ...\n",
       "girl/N/StanfDepSents.2/29  0.4148                    0.3159                     0.2551                     0.3923                    0.3052                     0.0000                     0.4530                     ...\n",
       "girl/N/StanfDepSents.9/14  0.5820                    0.6249                     0.3583                     0.3277                    0.5041                     0.4530                     0.0000                     ...\n",
       "...                        ...                       ...                        ...                        ...                       ...                        ...                        ...                        ..."
      ]
     },
     "execution_count": 51,
     "metadata": {},
     "output_type": "execute_result"
    }
   ],
   "source": [
    "tokdists = compute_distance(tokvecs)\n",
    "tokdists.save(f\"{output_path}/{corpus_name}.ttmx.dist.pac\")\n",
    "tokdists"
   ]
  },
  {
   "cell_type": "markdown",
   "metadata": {},
   "source": [
    "Of course, this could be used to compute the distances between the context words themselves!"
   ]
  },
  {
   "cell_type": "code",
   "execution_count": 52,
   "metadata": {
    "scrolled": true
   },
   "outputs": [
    {
     "name": "stdout",
     "output_type": "stream",
     "text": [
      "\n",
      "************************************\n",
      "function    = compute_distance\n",
      "  time      = 0.0005112 sec\n",
      "************************************\n",
      "\n",
      "\n",
      "Saving matrix...\n",
      "Stored in file:\n",
      "  /home/projects/semmetrix/mariana_wolken/depmodel/qlvl/tests/data/output//StanfDepSents.wwmx.dist.pac\n"
     ]
    },
    {
     "data": {
      "text/plain": [
       "[39, 39]  that/W  which/W  about/R  be/V    ,/,     this/D  apple/N  ...\n",
       "that/W    0.0000  0.9507   0.9237   0.8441  1.0000  0.9735  0.7750   ...\n",
       "which/W   0.9507  0.0000   0.9278   0.9611  1.0000  0.9750  0.9858   ...\n",
       "about/R   0.9237  0.9278   0.0000   0.9707  1.0000  0.9525  0.7109   ...\n",
       "be/V      0.8441  0.9611   0.9707   0.0000  0.7636  0.8006  0.6355   ...\n",
       ",/,       1.0000  1.0000   1.0000   0.7636  0.0000  0.5079  0.9361   ...\n",
       "this/D    0.9735  0.9750   0.9525   0.8006  0.5079  0.0000  0.9871   ...\n",
       "apple/N   0.7750  0.9858   0.7109   0.6355  0.9361  0.9871  0.0000   ...\n",
       "...       ...     ...      ...      ...     ...     ...     ...      ..."
      ]
     },
     "execution_count": 52,
     "metadata": {},
     "output_type": "execute_result"
    }
   ],
   "source": [
    "focdists = compute_distance(filtered_soc)\n",
    "focdists.save(f\"{output_path}/{corpus_name}.wwmx.dist.pac\")\n",
    "focdists"
   ]
  },
  {
   "cell_type": "markdown",
   "metadata": {},
   "source": [
    "# Further steps\n",
    "\n",
    "I normally do the rest on R: either t-SNE or MDS, HDBSCAN... But nothing stops us from running it in Python.\n",
    "An important point is being able to create a `for loop` or alike that goes through all the combinations of parameter settings, and runs this workflow with all those values, returning multiple models. This requires some thinking in order to avoid running (costly) operations with the same result multiple times --- and also planning to set up a proper registrer of parameter settings and selection of context words per token: that is what my `workflow.py` module tries to achieve. I will make it nicer :)"
   ]
  }
 ],
 "metadata": {
  "kernelspec": {
   "display_name": "Python 3",
   "language": "python",
   "name": "python3"
  },
  "language_info": {
   "codemirror_mode": {
    "name": "ipython",
    "version": 3
   },
   "file_extension": ".py",
   "mimetype": "text/x-python",
   "name": "python",
   "nbconvert_exporter": "python",
   "pygments_lexer": "ipython3",
   "version": "3.6.9"
  }
 },
 "nbformat": 4,
 "nbformat_minor": 2
}
